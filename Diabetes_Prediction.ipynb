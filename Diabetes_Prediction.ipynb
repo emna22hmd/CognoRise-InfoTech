{
  "cells": [
    {
      "cell_type": "markdown",
      "metadata": {
        "id": "view-in-github",
        "colab_type": "text"
      },
      "source": [
        "<a href=\"https://colab.research.google.com/github/emna22hmd/CognoRise-InfoTech/blob/main/Diabetes_Prediction.ipynb\" target=\"_parent\"><img src=\"https://colab.research.google.com/assets/colab-badge.svg\" alt=\"Open In Colab\"/></a>"
      ]
    },
    {
      "cell_type": "markdown",
      "metadata": {
        "id": "uCfxWWrvxs-a"
      },
      "source": [
        "#**Diabetes Prediction, the last task**"
      ]
    },
    {
      "cell_type": "markdown",
      "metadata": {
        "id": "0S8BKrFayRK3"
      },
      "source": [
        "![diabetes.jpg](data:image/jpeg;base64,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)"
      ]
    },
    {
      "cell_type": "markdown",
      "metadata": {
        "id": "qvD_axCIxggz"
      },
      "source": [
        "● Algorithm: Random Forest Classifier, K-Nearest Neighbors (KNN), adaboosting\n",
        "classifier,linear Regression, Decision Tree Classifier."
      ]
    },
    {
      "cell_type": "markdown",
      "metadata": {
        "id": "LxkgZZ2FxgSO"
      },
      "source": [
        "● Description: Predict whether a person has diabetes or not using features like\n",
        "glucose levels and BMI."
      ]
    },
    {
      "cell_type": "markdown",
      "metadata": {
        "id": "LfNEI07jy0ff"
      },
      "source": [
        "# **About the Dataset**"
      ]
    },
    {
      "cell_type": "markdown",
      "metadata": {
        "id": "ihDGl_sFzPNg"
      },
      "source": [
        "The **Diabetes prediction dataset** is a collection of medical and demographic data from patients, along with their diabetes status (positive or negative). The data includes features such as age, gender, body mass index (BMI), hypertension, heart disease, smoking history, HbA1c level, and blood glucose level. This dataset can be used to build **machine learning models** to predict diabetes in patients based on their medical history and demographic information. This can be useful for healthcare professionals in identifying patients who may be at risk of developing diabetes and in developing personalized treatment plans. Additionally, the dataset can be used by researchers to explore the relationships between various medical and demographic factors and the likelihood of developing diabetes.\n"
      ]
    },
    {
      "cell_type": "markdown",
      "metadata": {
        "id": "bXd8yEpWzdKa"
      },
      "source": [
        "Dataset Link: https://www.kaggle.com/datasets/iammustafatz/diabetes-prediction-dataset"
      ]
    },
    {
      "cell_type": "code",
      "execution_count": null,
      "metadata": {
        "id": "s_CNHE9C5sgv"
      },
      "outputs": [],
      "source": [
        "import pandas as pd\n",
        "import seaborn as sns\n",
        "import matplotlib.pyplot as plt\n",
        "from sklearn.model_selection import train_test_split\n",
        "from sklearn.ensemble import RandomForestClassifier\n",
        "from sklearn.datasets import make_classification\n",
        "from sklearn.model_selection import cross_val_score\n",
        "from sklearn.metrics import accuracy_score\n",
        "from sklearn.model_selection import GridSearchCV\n",
        "from sklearn.model_selection import cross_val_score\n",
        "from sklearn.metrics import precision_score, recall_score, confusion_matrix, classification_report, accuracy_score, f1_score\n",
        "from sklearn import metrics\n",
        "from sklearn.neighbors import KNeighborsClassifier\n",
        "import numpy as np\n",
        "from sklearn.metrics import confusion_matrix\n",
        "from sklearn.linear_model import LogisticRegression\n",
        "from sklearn.linear_model import LinearRegression\n",
        "from sklearn import linear_model\n",
        "from sklearn.metrics import mean_absolute_error, mean_absolute_percentage_error, mean_squared_error"
      ]
    },
    {
      "cell_type": "markdown",
      "metadata": {
        "id": "I2EhcmZ_5tOQ"
      },
      "source": [
        "# **Data Reading and Analysing**"
      ]
    },
    {
      "cell_type": "code",
      "execution_count": null,
      "metadata": {
        "id": "eD-RFubE0r60",
        "colab": {
          "base_uri": "https://localhost:8080/"
        },
        "outputId": "9620cbc3-700b-48e7-a25a-6f082b0149a5"
      },
      "outputs": [
        {
          "output_type": "stream",
          "name": "stdout",
          "text": [
            "Archive:  Diabetes_Prediction_Data.zip\n",
            "  inflating: diabetes_prediction_dataset.csv  \n"
          ]
        }
      ],
      "source": [
        "! unzip Diabetes_Prediction_Data.zip"
      ]
    },
    {
      "cell_type": "code",
      "execution_count": null,
      "metadata": {
        "id": "VeIZRiMZ5lIW",
        "colab": {
          "base_uri": "https://localhost:8080/",
          "height": 206
        },
        "outputId": "4a1fccd5-a710-4be7-9b99-19be18cc8adb"
      },
      "outputs": [
        {
          "output_type": "execute_result",
          "data": {
            "text/plain": [
              "   gender   age  hypertension  heart_disease smoking_history    bmi  \\\n",
              "0  Female  80.0             0              1           never  25.19   \n",
              "1  Female  54.0             0              0         No Info  27.32   \n",
              "2    Male  28.0             0              0           never  27.32   \n",
              "3  Female  36.0             0              0         current  23.45   \n",
              "4    Male  76.0             1              1         current  20.14   \n",
              "\n",
              "   HbA1c_level  blood_glucose_level  diabetes  \n",
              "0          6.6                  140         0  \n",
              "1          6.6                   80         0  \n",
              "2          5.7                  158         0  \n",
              "3          5.0                  155         0  \n",
              "4          4.8                  155         0  "
            ],
            "text/html": [
              "\n",
              "  <div id=\"df-b2879deb-9e15-4807-9af7-c372fa6aa89d\" class=\"colab-df-container\">\n",
              "    <div>\n",
              "<style scoped>\n",
              "    .dataframe tbody tr th:only-of-type {\n",
              "        vertical-align: middle;\n",
              "    }\n",
              "\n",
              "    .dataframe tbody tr th {\n",
              "        vertical-align: top;\n",
              "    }\n",
              "\n",
              "    .dataframe thead th {\n",
              "        text-align: right;\n",
              "    }\n",
              "</style>\n",
              "<table border=\"1\" class=\"dataframe\">\n",
              "  <thead>\n",
              "    <tr style=\"text-align: right;\">\n",
              "      <th></th>\n",
              "      <th>gender</th>\n",
              "      <th>age</th>\n",
              "      <th>hypertension</th>\n",
              "      <th>heart_disease</th>\n",
              "      <th>smoking_history</th>\n",
              "      <th>bmi</th>\n",
              "      <th>HbA1c_level</th>\n",
              "      <th>blood_glucose_level</th>\n",
              "      <th>diabetes</th>\n",
              "    </tr>\n",
              "  </thead>\n",
              "  <tbody>\n",
              "    <tr>\n",
              "      <th>0</th>\n",
              "      <td>Female</td>\n",
              "      <td>80.0</td>\n",
              "      <td>0</td>\n",
              "      <td>1</td>\n",
              "      <td>never</td>\n",
              "      <td>25.19</td>\n",
              "      <td>6.6</td>\n",
              "      <td>140</td>\n",
              "      <td>0</td>\n",
              "    </tr>\n",
              "    <tr>\n",
              "      <th>1</th>\n",
              "      <td>Female</td>\n",
              "      <td>54.0</td>\n",
              "      <td>0</td>\n",
              "      <td>0</td>\n",
              "      <td>No Info</td>\n",
              "      <td>27.32</td>\n",
              "      <td>6.6</td>\n",
              "      <td>80</td>\n",
              "      <td>0</td>\n",
              "    </tr>\n",
              "    <tr>\n",
              "      <th>2</th>\n",
              "      <td>Male</td>\n",
              "      <td>28.0</td>\n",
              "      <td>0</td>\n",
              "      <td>0</td>\n",
              "      <td>never</td>\n",
              "      <td>27.32</td>\n",
              "      <td>5.7</td>\n",
              "      <td>158</td>\n",
              "      <td>0</td>\n",
              "    </tr>\n",
              "    <tr>\n",
              "      <th>3</th>\n",
              "      <td>Female</td>\n",
              "      <td>36.0</td>\n",
              "      <td>0</td>\n",
              "      <td>0</td>\n",
              "      <td>current</td>\n",
              "      <td>23.45</td>\n",
              "      <td>5.0</td>\n",
              "      <td>155</td>\n",
              "      <td>0</td>\n",
              "    </tr>\n",
              "    <tr>\n",
              "      <th>4</th>\n",
              "      <td>Male</td>\n",
              "      <td>76.0</td>\n",
              "      <td>1</td>\n",
              "      <td>1</td>\n",
              "      <td>current</td>\n",
              "      <td>20.14</td>\n",
              "      <td>4.8</td>\n",
              "      <td>155</td>\n",
              "      <td>0</td>\n",
              "    </tr>\n",
              "  </tbody>\n",
              "</table>\n",
              "</div>\n",
              "    <div class=\"colab-df-buttons\">\n",
              "\n",
              "  <div class=\"colab-df-container\">\n",
              "    <button class=\"colab-df-convert\" onclick=\"convertToInteractive('df-b2879deb-9e15-4807-9af7-c372fa6aa89d')\"\n",
              "            title=\"Convert this dataframe to an interactive table.\"\n",
              "            style=\"display:none;\">\n",
              "\n",
              "  <svg xmlns=\"http://www.w3.org/2000/svg\" height=\"24px\" viewBox=\"0 -960 960 960\">\n",
              "    <path d=\"M120-120v-720h720v720H120Zm60-500h600v-160H180v160Zm220 220h160v-160H400v160Zm0 220h160v-160H400v160ZM180-400h160v-160H180v160Zm440 0h160v-160H620v160ZM180-180h160v-160H180v160Zm440 0h160v-160H620v160Z\"/>\n",
              "  </svg>\n",
              "    </button>\n",
              "\n",
              "  <style>\n",
              "    .colab-df-container {\n",
              "      display:flex;\n",
              "      gap: 12px;\n",
              "    }\n",
              "\n",
              "    .colab-df-convert {\n",
              "      background-color: #E8F0FE;\n",
              "      border: none;\n",
              "      border-radius: 50%;\n",
              "      cursor: pointer;\n",
              "      display: none;\n",
              "      fill: #1967D2;\n",
              "      height: 32px;\n",
              "      padding: 0 0 0 0;\n",
              "      width: 32px;\n",
              "    }\n",
              "\n",
              "    .colab-df-convert:hover {\n",
              "      background-color: #E2EBFA;\n",
              "      box-shadow: 0px 1px 2px rgba(60, 64, 67, 0.3), 0px 1px 3px 1px rgba(60, 64, 67, 0.15);\n",
              "      fill: #174EA6;\n",
              "    }\n",
              "\n",
              "    .colab-df-buttons div {\n",
              "      margin-bottom: 4px;\n",
              "    }\n",
              "\n",
              "    [theme=dark] .colab-df-convert {\n",
              "      background-color: #3B4455;\n",
              "      fill: #D2E3FC;\n",
              "    }\n",
              "\n",
              "    [theme=dark] .colab-df-convert:hover {\n",
              "      background-color: #434B5C;\n",
              "      box-shadow: 0px 1px 3px 1px rgba(0, 0, 0, 0.15);\n",
              "      filter: drop-shadow(0px 1px 2px rgba(0, 0, 0, 0.3));\n",
              "      fill: #FFFFFF;\n",
              "    }\n",
              "  </style>\n",
              "\n",
              "    <script>\n",
              "      const buttonEl =\n",
              "        document.querySelector('#df-b2879deb-9e15-4807-9af7-c372fa6aa89d button.colab-df-convert');\n",
              "      buttonEl.style.display =\n",
              "        google.colab.kernel.accessAllowed ? 'block' : 'none';\n",
              "\n",
              "      async function convertToInteractive(key) {\n",
              "        const element = document.querySelector('#df-b2879deb-9e15-4807-9af7-c372fa6aa89d');\n",
              "        const dataTable =\n",
              "          await google.colab.kernel.invokeFunction('convertToInteractive',\n",
              "                                                    [key], {});\n",
              "        if (!dataTable) return;\n",
              "\n",
              "        const docLinkHtml = 'Like what you see? Visit the ' +\n",
              "          '<a target=\"_blank\" href=https://colab.research.google.com/notebooks/data_table.ipynb>data table notebook</a>'\n",
              "          + ' to learn more about interactive tables.';\n",
              "        element.innerHTML = '';\n",
              "        dataTable['output_type'] = 'display_data';\n",
              "        await google.colab.output.renderOutput(dataTable, element);\n",
              "        const docLink = document.createElement('div');\n",
              "        docLink.innerHTML = docLinkHtml;\n",
              "        element.appendChild(docLink);\n",
              "      }\n",
              "    </script>\n",
              "  </div>\n",
              "\n",
              "\n",
              "<div id=\"df-854329ee-9f6f-406f-bbbf-ede81a48a13b\">\n",
              "  <button class=\"colab-df-quickchart\" onclick=\"quickchart('df-854329ee-9f6f-406f-bbbf-ede81a48a13b')\"\n",
              "            title=\"Suggest charts\"\n",
              "            style=\"display:none;\">\n",
              "\n",
              "<svg xmlns=\"http://www.w3.org/2000/svg\" height=\"24px\"viewBox=\"0 0 24 24\"\n",
              "     width=\"24px\">\n",
              "    <g>\n",
              "        <path d=\"M19 3H5c-1.1 0-2 .9-2 2v14c0 1.1.9 2 2 2h14c1.1 0 2-.9 2-2V5c0-1.1-.9-2-2-2zM9 17H7v-7h2v7zm4 0h-2V7h2v10zm4 0h-2v-4h2v4z\"/>\n",
              "    </g>\n",
              "</svg>\n",
              "  </button>\n",
              "\n",
              "<style>\n",
              "  .colab-df-quickchart {\n",
              "      --bg-color: #E8F0FE;\n",
              "      --fill-color: #1967D2;\n",
              "      --hover-bg-color: #E2EBFA;\n",
              "      --hover-fill-color: #174EA6;\n",
              "      --disabled-fill-color: #AAA;\n",
              "      --disabled-bg-color: #DDD;\n",
              "  }\n",
              "\n",
              "  [theme=dark] .colab-df-quickchart {\n",
              "      --bg-color: #3B4455;\n",
              "      --fill-color: #D2E3FC;\n",
              "      --hover-bg-color: #434B5C;\n",
              "      --hover-fill-color: #FFFFFF;\n",
              "      --disabled-bg-color: #3B4455;\n",
              "      --disabled-fill-color: #666;\n",
              "  }\n",
              "\n",
              "  .colab-df-quickchart {\n",
              "    background-color: var(--bg-color);\n",
              "    border: none;\n",
              "    border-radius: 50%;\n",
              "    cursor: pointer;\n",
              "    display: none;\n",
              "    fill: var(--fill-color);\n",
              "    height: 32px;\n",
              "    padding: 0;\n",
              "    width: 32px;\n",
              "  }\n",
              "\n",
              "  .colab-df-quickchart:hover {\n",
              "    background-color: var(--hover-bg-color);\n",
              "    box-shadow: 0 1px 2px rgba(60, 64, 67, 0.3), 0 1px 3px 1px rgba(60, 64, 67, 0.15);\n",
              "    fill: var(--button-hover-fill-color);\n",
              "  }\n",
              "\n",
              "  .colab-df-quickchart-complete:disabled,\n",
              "  .colab-df-quickchart-complete:disabled:hover {\n",
              "    background-color: var(--disabled-bg-color);\n",
              "    fill: var(--disabled-fill-color);\n",
              "    box-shadow: none;\n",
              "  }\n",
              "\n",
              "  .colab-df-spinner {\n",
              "    border: 2px solid var(--fill-color);\n",
              "    border-color: transparent;\n",
              "    border-bottom-color: var(--fill-color);\n",
              "    animation:\n",
              "      spin 1s steps(1) infinite;\n",
              "  }\n",
              "\n",
              "  @keyframes spin {\n",
              "    0% {\n",
              "      border-color: transparent;\n",
              "      border-bottom-color: var(--fill-color);\n",
              "      border-left-color: var(--fill-color);\n",
              "    }\n",
              "    20% {\n",
              "      border-color: transparent;\n",
              "      border-left-color: var(--fill-color);\n",
              "      border-top-color: var(--fill-color);\n",
              "    }\n",
              "    30% {\n",
              "      border-color: transparent;\n",
              "      border-left-color: var(--fill-color);\n",
              "      border-top-color: var(--fill-color);\n",
              "      border-right-color: var(--fill-color);\n",
              "    }\n",
              "    40% {\n",
              "      border-color: transparent;\n",
              "      border-right-color: var(--fill-color);\n",
              "      border-top-color: var(--fill-color);\n",
              "    }\n",
              "    60% {\n",
              "      border-color: transparent;\n",
              "      border-right-color: var(--fill-color);\n",
              "    }\n",
              "    80% {\n",
              "      border-color: transparent;\n",
              "      border-right-color: var(--fill-color);\n",
              "      border-bottom-color: var(--fill-color);\n",
              "    }\n",
              "    90% {\n",
              "      border-color: transparent;\n",
              "      border-bottom-color: var(--fill-color);\n",
              "    }\n",
              "  }\n",
              "</style>\n",
              "\n",
              "  <script>\n",
              "    async function quickchart(key) {\n",
              "      const quickchartButtonEl =\n",
              "        document.querySelector('#' + key + ' button');\n",
              "      quickchartButtonEl.disabled = true;  // To prevent multiple clicks.\n",
              "      quickchartButtonEl.classList.add('colab-df-spinner');\n",
              "      try {\n",
              "        const charts = await google.colab.kernel.invokeFunction(\n",
              "            'suggestCharts', [key], {});\n",
              "      } catch (error) {\n",
              "        console.error('Error during call to suggestCharts:', error);\n",
              "      }\n",
              "      quickchartButtonEl.classList.remove('colab-df-spinner');\n",
              "      quickchartButtonEl.classList.add('colab-df-quickchart-complete');\n",
              "    }\n",
              "    (() => {\n",
              "      let quickchartButtonEl =\n",
              "        document.querySelector('#df-854329ee-9f6f-406f-bbbf-ede81a48a13b button');\n",
              "      quickchartButtonEl.style.display =\n",
              "        google.colab.kernel.accessAllowed ? 'block' : 'none';\n",
              "    })();\n",
              "  </script>\n",
              "</div>\n",
              "\n",
              "    </div>\n",
              "  </div>\n"
            ],
            "application/vnd.google.colaboratory.intrinsic+json": {
              "type": "dataframe",
              "variable_name": "data",
              "summary": "{\n  \"name\": \"data\",\n  \"rows\": 100000,\n  \"fields\": [\n    {\n      \"column\": \"gender\",\n      \"properties\": {\n        \"dtype\": \"category\",\n        \"num_unique_values\": 3,\n        \"samples\": [\n          \"Female\",\n          \"Male\",\n          \"Other\"\n        ],\n        \"semantic_type\": \"\",\n        \"description\": \"\"\n      }\n    },\n    {\n      \"column\": \"age\",\n      \"properties\": {\n        \"dtype\": \"number\",\n        \"std\": 22.516839871617023,\n        \"min\": 0.08,\n        \"max\": 80.0,\n        \"num_unique_values\": 102,\n        \"samples\": [\n          29.0,\n          39.0,\n          16.0\n        ],\n        \"semantic_type\": \"\",\n        \"description\": \"\"\n      }\n    },\n    {\n      \"column\": \"hypertension\",\n      \"properties\": {\n        \"dtype\": \"number\",\n        \"std\": 0,\n        \"min\": 0,\n        \"max\": 1,\n        \"num_unique_values\": 2,\n        \"samples\": [\n          1,\n          0\n        ],\n        \"semantic_type\": \"\",\n        \"description\": \"\"\n      }\n    },\n    {\n      \"column\": \"heart_disease\",\n      \"properties\": {\n        \"dtype\": \"number\",\n        \"std\": 0,\n        \"min\": 0,\n        \"max\": 1,\n        \"num_unique_values\": 2,\n        \"samples\": [\n          0,\n          1\n        ],\n        \"semantic_type\": \"\",\n        \"description\": \"\"\n      }\n    },\n    {\n      \"column\": \"smoking_history\",\n      \"properties\": {\n        \"dtype\": \"category\",\n        \"num_unique_values\": 6,\n        \"samples\": [\n          \"never\",\n          \"No Info\"\n        ],\n        \"semantic_type\": \"\",\n        \"description\": \"\"\n      }\n    },\n    {\n      \"column\": \"bmi\",\n      \"properties\": {\n        \"dtype\": \"number\",\n        \"std\": 6.636783416648369,\n        \"min\": 10.01,\n        \"max\": 95.69,\n        \"num_unique_values\": 4247,\n        \"samples\": [\n          53.27,\n          32.33\n        ],\n        \"semantic_type\": \"\",\n        \"description\": \"\"\n      }\n    },\n    {\n      \"column\": \"HbA1c_level\",\n      \"properties\": {\n        \"dtype\": \"number\",\n        \"std\": 1.0706720918835437,\n        \"min\": 3.5,\n        \"max\": 9.0,\n        \"num_unique_values\": 18,\n        \"samples\": [\n          6.6,\n          5.7\n        ],\n        \"semantic_type\": \"\",\n        \"description\": \"\"\n      }\n    },\n    {\n      \"column\": \"blood_glucose_level\",\n      \"properties\": {\n        \"dtype\": \"number\",\n        \"std\": 40,\n        \"min\": 80,\n        \"max\": 300,\n        \"num_unique_values\": 18,\n        \"samples\": [\n          140,\n          80\n        ],\n        \"semantic_type\": \"\",\n        \"description\": \"\"\n      }\n    },\n    {\n      \"column\": \"diabetes\",\n      \"properties\": {\n        \"dtype\": \"number\",\n        \"std\": 0,\n        \"min\": 0,\n        \"max\": 1,\n        \"num_unique_values\": 2,\n        \"samples\": [\n          1,\n          0\n        ],\n        \"semantic_type\": \"\",\n        \"description\": \"\"\n      }\n    }\n  ]\n}"
            }
          },
          "metadata": {},
          "execution_count": 3
        }
      ],
      "source": [
        "data = pd.read_csv('/content/diabetes_prediction_dataset.csv')\n",
        "data.head()"
      ]
    },
    {
      "cell_type": "code",
      "execution_count": null,
      "metadata": {
        "id": "pDcECGuo6kUf",
        "colab": {
          "base_uri": "https://localhost:8080/",
          "height": 269
        },
        "outputId": "d2183e9b-9495-4842-abb1-8c4f87ef9ff1"
      },
      "outputs": [
        {
          "output_type": "execute_result",
          "data": {
            "text/plain": [
              "                        count        mean        std    min     25%     50%  \\\n",
              "age                  100000.0   41.885856  22.516840   0.08   24.00   43.00   \n",
              "hypertension         100000.0    0.074850   0.263150   0.00    0.00    0.00   \n",
              "heart_disease        100000.0    0.039420   0.194593   0.00    0.00    0.00   \n",
              "bmi                  100000.0   27.320767   6.636783  10.01   23.63   27.32   \n",
              "HbA1c_level          100000.0    5.527507   1.070672   3.50    4.80    5.80   \n",
              "blood_glucose_level  100000.0  138.058060  40.708136  80.00  100.00  140.00   \n",
              "diabetes             100000.0    0.085000   0.278883   0.00    0.00    0.00   \n",
              "\n",
              "                        75%     max  \n",
              "age                   60.00   80.00  \n",
              "hypertension           0.00    1.00  \n",
              "heart_disease          0.00    1.00  \n",
              "bmi                   29.58   95.69  \n",
              "HbA1c_level            6.20    9.00  \n",
              "blood_glucose_level  159.00  300.00  \n",
              "diabetes               0.00    1.00  "
            ],
            "text/html": [
              "\n",
              "  <div id=\"df-972e07dd-2c0c-4a16-a740-2a0c3516836d\" class=\"colab-df-container\">\n",
              "    <div>\n",
              "<style scoped>\n",
              "    .dataframe tbody tr th:only-of-type {\n",
              "        vertical-align: middle;\n",
              "    }\n",
              "\n",
              "    .dataframe tbody tr th {\n",
              "        vertical-align: top;\n",
              "    }\n",
              "\n",
              "    .dataframe thead th {\n",
              "        text-align: right;\n",
              "    }\n",
              "</style>\n",
              "<table border=\"1\" class=\"dataframe\">\n",
              "  <thead>\n",
              "    <tr style=\"text-align: right;\">\n",
              "      <th></th>\n",
              "      <th>count</th>\n",
              "      <th>mean</th>\n",
              "      <th>std</th>\n",
              "      <th>min</th>\n",
              "      <th>25%</th>\n",
              "      <th>50%</th>\n",
              "      <th>75%</th>\n",
              "      <th>max</th>\n",
              "    </tr>\n",
              "  </thead>\n",
              "  <tbody>\n",
              "    <tr>\n",
              "      <th>age</th>\n",
              "      <td>100000.0</td>\n",
              "      <td>41.885856</td>\n",
              "      <td>22.516840</td>\n",
              "      <td>0.08</td>\n",
              "      <td>24.00</td>\n",
              "      <td>43.00</td>\n",
              "      <td>60.00</td>\n",
              "      <td>80.00</td>\n",
              "    </tr>\n",
              "    <tr>\n",
              "      <th>hypertension</th>\n",
              "      <td>100000.0</td>\n",
              "      <td>0.074850</td>\n",
              "      <td>0.263150</td>\n",
              "      <td>0.00</td>\n",
              "      <td>0.00</td>\n",
              "      <td>0.00</td>\n",
              "      <td>0.00</td>\n",
              "      <td>1.00</td>\n",
              "    </tr>\n",
              "    <tr>\n",
              "      <th>heart_disease</th>\n",
              "      <td>100000.0</td>\n",
              "      <td>0.039420</td>\n",
              "      <td>0.194593</td>\n",
              "      <td>0.00</td>\n",
              "      <td>0.00</td>\n",
              "      <td>0.00</td>\n",
              "      <td>0.00</td>\n",
              "      <td>1.00</td>\n",
              "    </tr>\n",
              "    <tr>\n",
              "      <th>bmi</th>\n",
              "      <td>100000.0</td>\n",
              "      <td>27.320767</td>\n",
              "      <td>6.636783</td>\n",
              "      <td>10.01</td>\n",
              "      <td>23.63</td>\n",
              "      <td>27.32</td>\n",
              "      <td>29.58</td>\n",
              "      <td>95.69</td>\n",
              "    </tr>\n",
              "    <tr>\n",
              "      <th>HbA1c_level</th>\n",
              "      <td>100000.0</td>\n",
              "      <td>5.527507</td>\n",
              "      <td>1.070672</td>\n",
              "      <td>3.50</td>\n",
              "      <td>4.80</td>\n",
              "      <td>5.80</td>\n",
              "      <td>6.20</td>\n",
              "      <td>9.00</td>\n",
              "    </tr>\n",
              "    <tr>\n",
              "      <th>blood_glucose_level</th>\n",
              "      <td>100000.0</td>\n",
              "      <td>138.058060</td>\n",
              "      <td>40.708136</td>\n",
              "      <td>80.00</td>\n",
              "      <td>100.00</td>\n",
              "      <td>140.00</td>\n",
              "      <td>159.00</td>\n",
              "      <td>300.00</td>\n",
              "    </tr>\n",
              "    <tr>\n",
              "      <th>diabetes</th>\n",
              "      <td>100000.0</td>\n",
              "      <td>0.085000</td>\n",
              "      <td>0.278883</td>\n",
              "      <td>0.00</td>\n",
              "      <td>0.00</td>\n",
              "      <td>0.00</td>\n",
              "      <td>0.00</td>\n",
              "      <td>1.00</td>\n",
              "    </tr>\n",
              "  </tbody>\n",
              "</table>\n",
              "</div>\n",
              "    <div class=\"colab-df-buttons\">\n",
              "\n",
              "  <div class=\"colab-df-container\">\n",
              "    <button class=\"colab-df-convert\" onclick=\"convertToInteractive('df-972e07dd-2c0c-4a16-a740-2a0c3516836d')\"\n",
              "            title=\"Convert this dataframe to an interactive table.\"\n",
              "            style=\"display:none;\">\n",
              "\n",
              "  <svg xmlns=\"http://www.w3.org/2000/svg\" height=\"24px\" viewBox=\"0 -960 960 960\">\n",
              "    <path d=\"M120-120v-720h720v720H120Zm60-500h600v-160H180v160Zm220 220h160v-160H400v160Zm0 220h160v-160H400v160ZM180-400h160v-160H180v160Zm440 0h160v-160H620v160ZM180-180h160v-160H180v160Zm440 0h160v-160H620v160Z\"/>\n",
              "  </svg>\n",
              "    </button>\n",
              "\n",
              "  <style>\n",
              "    .colab-df-container {\n",
              "      display:flex;\n",
              "      gap: 12px;\n",
              "    }\n",
              "\n",
              "    .colab-df-convert {\n",
              "      background-color: #E8F0FE;\n",
              "      border: none;\n",
              "      border-radius: 50%;\n",
              "      cursor: pointer;\n",
              "      display: none;\n",
              "      fill: #1967D2;\n",
              "      height: 32px;\n",
              "      padding: 0 0 0 0;\n",
              "      width: 32px;\n",
              "    }\n",
              "\n",
              "    .colab-df-convert:hover {\n",
              "      background-color: #E2EBFA;\n",
              "      box-shadow: 0px 1px 2px rgba(60, 64, 67, 0.3), 0px 1px 3px 1px rgba(60, 64, 67, 0.15);\n",
              "      fill: #174EA6;\n",
              "    }\n",
              "\n",
              "    .colab-df-buttons div {\n",
              "      margin-bottom: 4px;\n",
              "    }\n",
              "\n",
              "    [theme=dark] .colab-df-convert {\n",
              "      background-color: #3B4455;\n",
              "      fill: #D2E3FC;\n",
              "    }\n",
              "\n",
              "    [theme=dark] .colab-df-convert:hover {\n",
              "      background-color: #434B5C;\n",
              "      box-shadow: 0px 1px 3px 1px rgba(0, 0, 0, 0.15);\n",
              "      filter: drop-shadow(0px 1px 2px rgba(0, 0, 0, 0.3));\n",
              "      fill: #FFFFFF;\n",
              "    }\n",
              "  </style>\n",
              "\n",
              "    <script>\n",
              "      const buttonEl =\n",
              "        document.querySelector('#df-972e07dd-2c0c-4a16-a740-2a0c3516836d button.colab-df-convert');\n",
              "      buttonEl.style.display =\n",
              "        google.colab.kernel.accessAllowed ? 'block' : 'none';\n",
              "\n",
              "      async function convertToInteractive(key) {\n",
              "        const element = document.querySelector('#df-972e07dd-2c0c-4a16-a740-2a0c3516836d');\n",
              "        const dataTable =\n",
              "          await google.colab.kernel.invokeFunction('convertToInteractive',\n",
              "                                                    [key], {});\n",
              "        if (!dataTable) return;\n",
              "\n",
              "        const docLinkHtml = 'Like what you see? Visit the ' +\n",
              "          '<a target=\"_blank\" href=https://colab.research.google.com/notebooks/data_table.ipynb>data table notebook</a>'\n",
              "          + ' to learn more about interactive tables.';\n",
              "        element.innerHTML = '';\n",
              "        dataTable['output_type'] = 'display_data';\n",
              "        await google.colab.output.renderOutput(dataTable, element);\n",
              "        const docLink = document.createElement('div');\n",
              "        docLink.innerHTML = docLinkHtml;\n",
              "        element.appendChild(docLink);\n",
              "      }\n",
              "    </script>\n",
              "  </div>\n",
              "\n",
              "\n",
              "<div id=\"df-c6dbc0be-5d0e-4447-885a-796931e1c7f4\">\n",
              "  <button class=\"colab-df-quickchart\" onclick=\"quickchart('df-c6dbc0be-5d0e-4447-885a-796931e1c7f4')\"\n",
              "            title=\"Suggest charts\"\n",
              "            style=\"display:none;\">\n",
              "\n",
              "<svg xmlns=\"http://www.w3.org/2000/svg\" height=\"24px\"viewBox=\"0 0 24 24\"\n",
              "     width=\"24px\">\n",
              "    <g>\n",
              "        <path d=\"M19 3H5c-1.1 0-2 .9-2 2v14c0 1.1.9 2 2 2h14c1.1 0 2-.9 2-2V5c0-1.1-.9-2-2-2zM9 17H7v-7h2v7zm4 0h-2V7h2v10zm4 0h-2v-4h2v4z\"/>\n",
              "    </g>\n",
              "</svg>\n",
              "  </button>\n",
              "\n",
              "<style>\n",
              "  .colab-df-quickchart {\n",
              "      --bg-color: #E8F0FE;\n",
              "      --fill-color: #1967D2;\n",
              "      --hover-bg-color: #E2EBFA;\n",
              "      --hover-fill-color: #174EA6;\n",
              "      --disabled-fill-color: #AAA;\n",
              "      --disabled-bg-color: #DDD;\n",
              "  }\n",
              "\n",
              "  [theme=dark] .colab-df-quickchart {\n",
              "      --bg-color: #3B4455;\n",
              "      --fill-color: #D2E3FC;\n",
              "      --hover-bg-color: #434B5C;\n",
              "      --hover-fill-color: #FFFFFF;\n",
              "      --disabled-bg-color: #3B4455;\n",
              "      --disabled-fill-color: #666;\n",
              "  }\n",
              "\n",
              "  .colab-df-quickchart {\n",
              "    background-color: var(--bg-color);\n",
              "    border: none;\n",
              "    border-radius: 50%;\n",
              "    cursor: pointer;\n",
              "    display: none;\n",
              "    fill: var(--fill-color);\n",
              "    height: 32px;\n",
              "    padding: 0;\n",
              "    width: 32px;\n",
              "  }\n",
              "\n",
              "  .colab-df-quickchart:hover {\n",
              "    background-color: var(--hover-bg-color);\n",
              "    box-shadow: 0 1px 2px rgba(60, 64, 67, 0.3), 0 1px 3px 1px rgba(60, 64, 67, 0.15);\n",
              "    fill: var(--button-hover-fill-color);\n",
              "  }\n",
              "\n",
              "  .colab-df-quickchart-complete:disabled,\n",
              "  .colab-df-quickchart-complete:disabled:hover {\n",
              "    background-color: var(--disabled-bg-color);\n",
              "    fill: var(--disabled-fill-color);\n",
              "    box-shadow: none;\n",
              "  }\n",
              "\n",
              "  .colab-df-spinner {\n",
              "    border: 2px solid var(--fill-color);\n",
              "    border-color: transparent;\n",
              "    border-bottom-color: var(--fill-color);\n",
              "    animation:\n",
              "      spin 1s steps(1) infinite;\n",
              "  }\n",
              "\n",
              "  @keyframes spin {\n",
              "    0% {\n",
              "      border-color: transparent;\n",
              "      border-bottom-color: var(--fill-color);\n",
              "      border-left-color: var(--fill-color);\n",
              "    }\n",
              "    20% {\n",
              "      border-color: transparent;\n",
              "      border-left-color: var(--fill-color);\n",
              "      border-top-color: var(--fill-color);\n",
              "    }\n",
              "    30% {\n",
              "      border-color: transparent;\n",
              "      border-left-color: var(--fill-color);\n",
              "      border-top-color: var(--fill-color);\n",
              "      border-right-color: var(--fill-color);\n",
              "    }\n",
              "    40% {\n",
              "      border-color: transparent;\n",
              "      border-right-color: var(--fill-color);\n",
              "      border-top-color: var(--fill-color);\n",
              "    }\n",
              "    60% {\n",
              "      border-color: transparent;\n",
              "      border-right-color: var(--fill-color);\n",
              "    }\n",
              "    80% {\n",
              "      border-color: transparent;\n",
              "      border-right-color: var(--fill-color);\n",
              "      border-bottom-color: var(--fill-color);\n",
              "    }\n",
              "    90% {\n",
              "      border-color: transparent;\n",
              "      border-bottom-color: var(--fill-color);\n",
              "    }\n",
              "  }\n",
              "</style>\n",
              "\n",
              "  <script>\n",
              "    async function quickchart(key) {\n",
              "      const quickchartButtonEl =\n",
              "        document.querySelector('#' + key + ' button');\n",
              "      quickchartButtonEl.disabled = true;  // To prevent multiple clicks.\n",
              "      quickchartButtonEl.classList.add('colab-df-spinner');\n",
              "      try {\n",
              "        const charts = await google.colab.kernel.invokeFunction(\n",
              "            'suggestCharts', [key], {});\n",
              "      } catch (error) {\n",
              "        console.error('Error during call to suggestCharts:', error);\n",
              "      }\n",
              "      quickchartButtonEl.classList.remove('colab-df-spinner');\n",
              "      quickchartButtonEl.classList.add('colab-df-quickchart-complete');\n",
              "    }\n",
              "    (() => {\n",
              "      let quickchartButtonEl =\n",
              "        document.querySelector('#df-c6dbc0be-5d0e-4447-885a-796931e1c7f4 button');\n",
              "      quickchartButtonEl.style.display =\n",
              "        google.colab.kernel.accessAllowed ? 'block' : 'none';\n",
              "    })();\n",
              "  </script>\n",
              "</div>\n",
              "\n",
              "    </div>\n",
              "  </div>\n"
            ],
            "application/vnd.google.colaboratory.intrinsic+json": {
              "type": "dataframe",
              "summary": "{\n  \"name\": \"data\",\n  \"rows\": 7,\n  \"fields\": [\n    {\n      \"column\": \"count\",\n      \"properties\": {\n        \"dtype\": \"number\",\n        \"std\": 0.0,\n        \"min\": 100000.0,\n        \"max\": 100000.0,\n        \"num_unique_values\": 1,\n        \"samples\": [\n          100000.0\n        ],\n        \"semantic_type\": \"\",\n        \"description\": \"\"\n      }\n    },\n    {\n      \"column\": \"mean\",\n      \"properties\": {\n        \"dtype\": \"number\",\n        \"std\": 50.184125782051744,\n        \"min\": 0.03942,\n        \"max\": 138.05806,\n        \"num_unique_values\": 7,\n        \"samples\": [\n          41.885856\n        ],\n        \"semantic_type\": \"\",\n        \"description\": \"\"\n      }\n    },\n    {\n      \"column\": \"std\",\n      \"properties\": {\n        \"dtype\": \"number\",\n        \"std\": 15.683108835825339,\n        \"min\": 0.1945930169980995,\n        \"max\": 40.708136048704134,\n        \"num_unique_values\": 7,\n        \"samples\": [\n          22.516839871617023\n        ],\n        \"semantic_type\": \"\",\n        \"description\": \"\"\n      }\n    },\n    {\n      \"column\": \"min\",\n      \"properties\": {\n        \"dtype\": \"number\",\n        \"std\": 29.611816897988547,\n        \"min\": 0.0,\n        \"max\": 80.0,\n        \"num_unique_values\": 5,\n        \"samples\": [\n          0.0\n        ],\n        \"semantic_type\": \"\",\n        \"description\": \"\"\n      }\n    },\n    {\n      \"column\": \"25%\",\n      \"properties\": {\n        \"dtype\": \"number\",\n        \"std\": 36.143567365504495,\n        \"min\": 0.0,\n        \"max\": 100.0,\n        \"num_unique_values\": 5,\n        \"samples\": [\n          0.0\n        ],\n        \"semantic_type\": \"\",\n        \"description\": \"\"\n      }\n    },\n    {\n      \"column\": \"50%\",\n      \"properties\": {\n        \"dtype\": \"number\",\n        \"std\": 50.919007209863146,\n        \"min\": 0.0,\n        \"max\": 140.0,\n        \"num_unique_values\": 5,\n        \"samples\": [\n          0.0\n        ],\n        \"semantic_type\": \"\",\n        \"description\": \"\"\n      }\n    },\n    {\n      \"column\": \"75%\",\n      \"properties\": {\n        \"dtype\": \"number\",\n        \"std\": 58.48240809972566,\n        \"min\": 0.0,\n        \"max\": 159.0,\n        \"num_unique_values\": 5,\n        \"samples\": [\n          0.0\n        ],\n        \"semantic_type\": \"\",\n        \"description\": \"\"\n      }\n    },\n    {\n      \"column\": \"max\",\n      \"properties\": {\n        \"dtype\": \"number\",\n        \"std\": 109.28800925383656,\n        \"min\": 1.0,\n        \"max\": 300.0,\n        \"num_unique_values\": 5,\n        \"samples\": [\n          1.0\n        ],\n        \"semantic_type\": \"\",\n        \"description\": \"\"\n      }\n    }\n  ]\n}"
            }
          },
          "metadata": {},
          "execution_count": 4
        }
      ],
      "source": [
        "data.describe().T"
      ]
    },
    {
      "cell_type": "code",
      "execution_count": null,
      "metadata": {
        "id": "4q_ttS4P7jWP"
      },
      "outputs": [],
      "source": [
        "import seaborn as sns"
      ]
    },
    {
      "cell_type": "code",
      "execution_count": null,
      "metadata": {
        "id": "jbQYcgn_63dS",
        "colab": {
          "base_uri": "https://localhost:8080/"
        },
        "outputId": "e3a9c6df-f647-4e9f-a1ad-0a1ce30804d2"
      },
      "outputs": [
        {
          "output_type": "stream",
          "name": "stdout",
          "text": [
            "Number of diabetic:  91500\n",
            "Number of non diabetic :  8500\n"
          ]
        }
      ],
      "source": [
        "y = data.diabetes\n",
        "Y, N = y.value_counts()\n",
        "print('Number of diabetic: ',Y)\n",
        "print('Number of non diabetic : ',N)"
      ]
    },
    {
      "cell_type": "code",
      "source": [
        "feature_columns = ['gender',\t'age',\t'hypertension',\t'heart_disease',\t'smoking_history', 'bmi', 'HbA1c_level',\t'blood_glucose_level']\n",
        "x = data[feature_columns]\n",
        "y = data.diabetes"
      ],
      "metadata": {
        "id": "wICRl2U0p01X"
      },
      "execution_count": null,
      "outputs": []
    },
    {
      "cell_type": "code",
      "source": [
        "X_train, X_test, y_train, y_test = train_test_split(x, y, test_size=0.3, random_state=0)"
      ],
      "metadata": {
        "id": "wCiltkE-pmZ6"
      },
      "execution_count": null,
      "outputs": []
    },
    {
      "cell_type": "markdown",
      "source": [
        "# **Preprocessing**"
      ],
      "metadata": {
        "id": "IMnwxhcCqTkI"
      }
    },
    {
      "cell_type": "code",
      "source": [
        "from sklearn.preprocessing import LabelEncoder\n",
        "\n",
        "# Initialize LabelEncoder\n",
        "le = LabelEncoder()\n",
        "\n",
        "# Fit and transform the 'gender' column in both training and testing data\n",
        "X_train['gender'] = le.fit_transform(X_train['gender'])\n",
        "X_test['gender'] = le.transform(X_test['gender'])"
      ],
      "metadata": {
        "id": "AkWtJQYLqiLv"
      },
      "execution_count": null,
      "outputs": []
    },
    {
      "cell_type": "code",
      "source": [
        "# Apply LabelEncoder to the 'smoking_history' column\n",
        "X_train['smoking_history'] = le.fit_transform(X_train['smoking_history']) # Encode 'smoking_history' for training data\n",
        "X_test['smoking_history'] = le.transform(X_test['smoking_history']) # Encode 'smoking_history' for testing data"
      ],
      "metadata": {
        "id": "5padDJ42qw1_"
      },
      "execution_count": null,
      "outputs": []
    },
    {
      "cell_type": "markdown",
      "metadata": {
        "id": "8321rsOJ770Y"
      },
      "source": [
        "# **Random Forest Classifier**"
      ]
    },
    {
      "cell_type": "code",
      "source": [
        "clf = RandomForestClassifier(max_depth=2, random_state=42)\n",
        "clf.fit(X_train, y_train)\n",
        "accuracy = clf.score(X_train, y_train)\n",
        "print(\"Accuracy:\", accuracy)"
      ],
      "metadata": {
        "id": "AEhzSqVeokyb",
        "colab": {
          "base_uri": "https://localhost:8080/"
        },
        "outputId": "468fb01c-4f8d-4968-b770-41dc59a7ec56"
      },
      "execution_count": null,
      "outputs": [
        {
          "output_type": "stream",
          "name": "stdout",
          "text": [
            "Accuracy: 0.9313857142857143\n"
          ]
        }
      ]
    },
    {
      "cell_type": "code",
      "source": [
        "#Testing the Model on test set\n",
        "predictions=clf.predict(X_test)\n",
        "acccuracy= accuracy_score(y_test,predictions)\n",
        "acccuracy"
      ],
      "metadata": {
        "id": "BzrAYcs6sTds",
        "colab": {
          "base_uri": "https://localhost:8080/"
        },
        "outputId": "518455df-a03a-4867-d2cc-ee5e8349d2b2"
      },
      "execution_count": null,
      "outputs": [
        {
          "output_type": "execute_result",
          "data": {
            "text/plain": [
              "0.9314"
            ]
          },
          "metadata": {},
          "execution_count": 39
        }
      ]
    },
    {
      "cell_type": "code",
      "source": [
        "print(classification_report(y_test,clf.predict(X_test)))"
      ],
      "metadata": {
        "colab": {
          "base_uri": "https://localhost:8080/"
        },
        "id": "ja2-qQCP0z9i",
        "outputId": "1c614674-3922-4154-fa36-c339b0c3ee50"
      },
      "execution_count": null,
      "outputs": [
        {
          "output_type": "stream",
          "name": "stdout",
          "text": [
            "              precision    recall  f1-score   support\n",
            "\n",
            "           0       0.93      1.00      0.96     27461\n",
            "           1       1.00      0.19      0.32      2539\n",
            "\n",
            "    accuracy                           0.93     30000\n",
            "   macro avg       0.97      0.59      0.64     30000\n",
            "weighted avg       0.94      0.93      0.91     30000\n",
            "\n"
          ]
        }
      ]
    },
    {
      "cell_type": "markdown",
      "metadata": {
        "id": "y4ok2DHZ77m2"
      },
      "source": [
        "# **K-Nearest Neighbors (KNN)**"
      ]
    },
    {
      "cell_type": "code",
      "source": [
        "knn=KNeighborsClassifier(n_neighbors=1)\n",
        "knn.fit(X_train,y_train)"
      ],
      "metadata": {
        "id": "cjNIG5gdsMK8",
        "colab": {
          "base_uri": "https://localhost:8080/",
          "height": 75
        },
        "outputId": "17c24537-47a6-439e-9997-ca9f97ce4015"
      },
      "execution_count": null,
      "outputs": [
        {
          "output_type": "execute_result",
          "data": {
            "text/plain": [
              "KNeighborsClassifier(n_neighbors=1)"
            ],
            "text/html": [
              "<style>#sk-container-id-1 {color: black;}#sk-container-id-1 pre{padding: 0;}#sk-container-id-1 div.sk-toggleable {background-color: white;}#sk-container-id-1 label.sk-toggleable__label {cursor: pointer;display: block;width: 100%;margin-bottom: 0;padding: 0.3em;box-sizing: border-box;text-align: center;}#sk-container-id-1 label.sk-toggleable__label-arrow:before {content: \"▸\";float: left;margin-right: 0.25em;color: #696969;}#sk-container-id-1 label.sk-toggleable__label-arrow:hover:before {color: black;}#sk-container-id-1 div.sk-estimator:hover label.sk-toggleable__label-arrow:before {color: black;}#sk-container-id-1 div.sk-toggleable__content {max-height: 0;max-width: 0;overflow: hidden;text-align: left;background-color: #f0f8ff;}#sk-container-id-1 div.sk-toggleable__content pre {margin: 0.2em;color: black;border-radius: 0.25em;background-color: #f0f8ff;}#sk-container-id-1 input.sk-toggleable__control:checked~div.sk-toggleable__content {max-height: 200px;max-width: 100%;overflow: auto;}#sk-container-id-1 input.sk-toggleable__control:checked~label.sk-toggleable__label-arrow:before {content: \"▾\";}#sk-container-id-1 div.sk-estimator input.sk-toggleable__control:checked~label.sk-toggleable__label {background-color: #d4ebff;}#sk-container-id-1 div.sk-label input.sk-toggleable__control:checked~label.sk-toggleable__label {background-color: #d4ebff;}#sk-container-id-1 input.sk-hidden--visually {border: 0;clip: rect(1px 1px 1px 1px);clip: rect(1px, 1px, 1px, 1px);height: 1px;margin: -1px;overflow: hidden;padding: 0;position: absolute;width: 1px;}#sk-container-id-1 div.sk-estimator {font-family: monospace;background-color: #f0f8ff;border: 1px dotted black;border-radius: 0.25em;box-sizing: border-box;margin-bottom: 0.5em;}#sk-container-id-1 div.sk-estimator:hover {background-color: #d4ebff;}#sk-container-id-1 div.sk-parallel-item::after {content: \"\";width: 100%;border-bottom: 1px solid gray;flex-grow: 1;}#sk-container-id-1 div.sk-label:hover label.sk-toggleable__label {background-color: #d4ebff;}#sk-container-id-1 div.sk-serial::before {content: \"\";position: absolute;border-left: 1px solid gray;box-sizing: border-box;top: 0;bottom: 0;left: 50%;z-index: 0;}#sk-container-id-1 div.sk-serial {display: flex;flex-direction: column;align-items: center;background-color: white;padding-right: 0.2em;padding-left: 0.2em;position: relative;}#sk-container-id-1 div.sk-item {position: relative;z-index: 1;}#sk-container-id-1 div.sk-parallel {display: flex;align-items: stretch;justify-content: center;background-color: white;position: relative;}#sk-container-id-1 div.sk-item::before, #sk-container-id-1 div.sk-parallel-item::before {content: \"\";position: absolute;border-left: 1px solid gray;box-sizing: border-box;top: 0;bottom: 0;left: 50%;z-index: -1;}#sk-container-id-1 div.sk-parallel-item {display: flex;flex-direction: column;z-index: 1;position: relative;background-color: white;}#sk-container-id-1 div.sk-parallel-item:first-child::after {align-self: flex-end;width: 50%;}#sk-container-id-1 div.sk-parallel-item:last-child::after {align-self: flex-start;width: 50%;}#sk-container-id-1 div.sk-parallel-item:only-child::after {width: 0;}#sk-container-id-1 div.sk-dashed-wrapped {border: 1px dashed gray;margin: 0 0.4em 0.5em 0.4em;box-sizing: border-box;padding-bottom: 0.4em;background-color: white;}#sk-container-id-1 div.sk-label label {font-family: monospace;font-weight: bold;display: inline-block;line-height: 1.2em;}#sk-container-id-1 div.sk-label-container {text-align: center;}#sk-container-id-1 div.sk-container {/* jupyter's `normalize.less` sets `[hidden] { display: none; }` but bootstrap.min.css set `[hidden] { display: none !important; }` so we also need the `!important` here to be able to override the default hidden behavior on the sphinx rendered scikit-learn.org. See: https://github.com/scikit-learn/scikit-learn/issues/21755 */display: inline-block !important;position: relative;}#sk-container-id-1 div.sk-text-repr-fallback {display: none;}</style><div id=\"sk-container-id-1\" class=\"sk-top-container\"><div class=\"sk-text-repr-fallback\"><pre>KNeighborsClassifier(n_neighbors=1)</pre><b>In a Jupyter environment, please rerun this cell to show the HTML representation or trust the notebook. <br />On GitHub, the HTML representation is unable to render, please try loading this page with nbviewer.org.</b></div><div class=\"sk-container\" hidden><div class=\"sk-item\"><div class=\"sk-estimator sk-toggleable\"><input class=\"sk-toggleable__control sk-hidden--visually\" id=\"sk-estimator-id-1\" type=\"checkbox\" checked><label for=\"sk-estimator-id-1\" class=\"sk-toggleable__label sk-toggleable__label-arrow\">KNeighborsClassifier</label><div class=\"sk-toggleable__content\"><pre>KNeighborsClassifier(n_neighbors=1)</pre></div></div></div></div></div>"
            ]
          },
          "metadata": {},
          "execution_count": 13
        }
      ]
    },
    {
      "cell_type": "code",
      "source": [
        "_pred = knn.predict(X_test)\n",
        "confusion_knn=confusion_matrix(y_test,y_test)\n",
        "sns.heatmap(confusion_knn/np.sum(confusion_knn), annot=True, fmt='.2%', cmap='Blues')"
      ],
      "metadata": {
        "id": "DybR-i0KspE-",
        "colab": {
          "base_uri": "https://localhost:8080/",
          "height": 447
        },
        "outputId": "eeb403f5-60ab-4098-9ddb-6cab537ae989"
      },
      "execution_count": null,
      "outputs": [
        {
          "output_type": "execute_result",
          "data": {
            "text/plain": [
              "<Axes: >"
            ]
          },
          "metadata": {},
          "execution_count": 14
        },
        {
          "output_type": "display_data",
          "data": {
            "text/plain": [
              "<Figure size 640x480 with 2 Axes>"
            ],
            "image/png": "[encoded data removed]"
          },
          "metadata": {}
        }
      ]
    },
    {
      "cell_type": "code",
      "source": [
        "print(classification_report(y_test,knn.predict(X_test)))"
      ],
      "metadata": {
        "id": "c2ryDxOSsxNC",
        "colab": {
          "base_uri": "https://localhost:8080/"
        },
        "outputId": "eea88316-5eb0-4e89-db10-430cc1c2dc8e"
      },
      "execution_count": null,
      "outputs": [
        {
          "output_type": "stream",
          "name": "stdout",
          "text": [
            "              precision    recall  f1-score   support\n",
            "\n",
            "           0       0.96      0.97      0.97     27461\n",
            "           1       0.66      0.61      0.63      2539\n",
            "\n",
            "    accuracy                           0.94     30000\n",
            "   macro avg       0.81      0.79      0.80     30000\n",
            "weighted avg       0.94      0.94      0.94     30000\n",
            "\n"
          ]
        }
      ]
    },
    {
      "cell_type": "markdown",
      "source": [
        "**Tuning the hyper-parameters: Finding the best k value by testing**"
      ],
      "metadata": {
        "id": "_j29lRXDysx7"
      }
    },
    {
      "cell_type": "code",
      "source": [
        "error_rate = []\n",
        "for k in range(1, 21):  # Testing k from 1 to 20\n",
        "    knn = KNeighborsClassifier(n_neighbors=k)\n",
        "    knn.fit(X_train, y_train)\n",
        "    y_pred = knn.predict(X_test)\n",
        "    error_rate.append(np.mean(y_pred != y_test))\n",
        "\n",
        "# Plotting the elbow curve\n",
        "plt.figure(figsize=(10, 6))\n",
        "plt.plot(range(1, 21), error_rate, color='blue', linestyle='dashed', marker='o', markerfacecolor='red', markersize=10)\n",
        "plt.title('Error Rate vs. K Value')\n",
        "plt.xlabel('K')\n",
        "plt.ylabel('Error Rate')\n",
        "plt.xticks(range(1, 21))\n",
        "plt.grid(True)\n",
        "plt.show()\n",
        "\n",
        "\n",
        "# Choosing the best k value with the lowest error rate\n",
        "best_k = np.argmin(error_rate) + 1\n",
        "print(f\"Best value of k: {best_k}\")"
      ],
      "metadata": {
        "colab": {
          "base_uri": "https://localhost:8080/",
          "height": 581
        },
        "id": "YJdfnKy-qzcM",
        "outputId": "d383433e-691f-415c-8ace-9da1f74fcf91"
      },
      "execution_count": null,
      "outputs": [
        {
          "output_type": "display_data",
          "data": {
            "text/plain": [
              "<Figure size 1000x600 with 1 Axes>"
            ],
            "image/png": "[encoded data removed]"
          },
          "metadata": {}
        },
        {
          "output_type": "stream",
          "name": "stdout",
          "text": [
            "Best value of k: 7\n"
          ]
        }
      ]
    },
    {
      "cell_type": "markdown",
      "source": [
        "**Cross Validation**"
      ],
      "metadata": {
        "id": "3LneLrhGzYOB"
      }
    },
    {
      "cell_type": "code",
      "source": [
        "knn_scores=[]\n",
        "for k in range(1,20):\n",
        "    knn1=KNeighborsClassifier(n_neighbors=k)\n",
        "    scores=cross_val_score(knn1,X_train,y_train,cv=5)\n",
        "    knn_scores.append(scores.mean())\n",
        "\n",
        "x_ticks = [1,2,3,4,5,6,7,8,9,10,11,12,13,14,15,16,17,18,19,20]\n",
        "x_labels = x_ticks\n",
        "\n",
        "plt.plot([k for k in range(1,20)],knn_scores)\n",
        "plt.xticks(ticks=x_ticks, labels=x_labels)\n",
        "plt.grid()"
      ],
      "metadata": {
        "colab": {
          "base_uri": "https://localhost:8080/",
          "height": 430
        },
        "id": "YeZnhcMEq7HT",
        "outputId": "a143b33c-a3d3-451a-8cba-ee103330c636"
      },
      "execution_count": null,
      "outputs": [
        {
          "output_type": "display_data",
          "data": {
            "text/plain": [
              "<Figure size 640x480 with 1 Axes>"
            ],
            "image/png": "[encoded data removed]"
          },
          "metadata": {}
        }
      ]
    },
    {
      "cell_type": "markdown",
      "metadata": {
        "id": "aLk1GAnh77ZM"
      },
      "source": [
        "# **adaboosting classifier**"
      ]
    },
    {
      "cell_type": "code",
      "source": [
        "from sklearn.ensemble import AdaBoostClassifier\n",
        "from sklearn.tree import DecisionTreeClassifier"
      ],
      "metadata": {
        "id": "htGkVMsho0pC"
      },
      "execution_count": null,
      "outputs": []
    },
    {
      "cell_type": "code",
      "source": [
        "AdaBoostClassifier().get_params()"
      ],
      "metadata": {
        "id": "sBTgXVfqu69e",
        "colab": {
          "base_uri": "https://localhost:8080/"
        },
        "outputId": "fdfffedd-21d9-4398-9409-12f2703cb9da"
      },
      "execution_count": null,
      "outputs": [
        {
          "output_type": "execute_result",
          "data": {
            "text/plain": [
              "{'algorithm': 'SAMME.R',\n",
              " 'base_estimator': 'deprecated',\n",
              " 'estimator': None,\n",
              " 'learning_rate': 1.0,\n",
              " 'n_estimators': 50,\n",
              " 'random_state': None}"
            ]
          },
          "metadata": {},
          "execution_count": 21
        }
      ]
    },
    {
      "cell_type": "code",
      "source": [
        "ada=AdaBoostClassifier(random_state=42, base_estimator = DecisionTreeClassifier(), learning_rate = 1.0, n_estimators=200)\n",
        "ada.fit(X_train,y_train)\n",
        "y_pred_ada=ada.predict(X_test)"
      ],
      "metadata": {
        "id": "1kW-pzNJu6kJ",
        "colab": {
          "base_uri": "https://localhost:8080/"
        },
        "outputId": "0c3929c1-29f2-42a3-d0db-6898076429a3"
      },
      "execution_count": null,
      "outputs": [
        {
          "output_type": "stream",
          "name": "stderr",
          "text": [
            "/usr/local/lib/python3.10/dist-packages/sklearn/ensemble/_base.py:156: FutureWarning: `base_estimator` was renamed to `estimator` in version 1.2 and will be removed in 1.4.\n",
            "  warnings.warn(\n"
          ]
        }
      ]
    },
    {
      "cell_type": "code",
      "source": [
        "confusion_ada=confusion_matrix(y_test,ada.predict(X_test))\n",
        "sns.heatmap((confusion_ada/np.sum(confusion_ada)),annot=True,fmt='.2%', cmap='Blues')"
      ],
      "metadata": {
        "id": "vkWdz83yv0MN",
        "colab": {
          "base_uri": "https://localhost:8080/",
          "height": 447
        },
        "outputId": "ce285c1c-bf1d-41d4-d1b3-a27b66b7c257"
      },
      "execution_count": null,
      "outputs": [
        {
          "output_type": "execute_result",
          "data": {
            "text/plain": [
              "<Axes: >"
            ]
          },
          "metadata": {},
          "execution_count": 23
        },
        {
          "output_type": "display_data",
          "data": {
            "text/plain": [
              "<Figure size 640x480 with 2 Axes>"
            ],
            "image/png": "[encoded data removed]"
          },
          "metadata": {}
        }
      ]
    },
    {
      "cell_type": "code",
      "source": [
        "print(classification_report(y_test,y_pred_ada))"
      ],
      "metadata": {
        "id": "HwmOgEnqv3x9",
        "colab": {
          "base_uri": "https://localhost:8080/"
        },
        "outputId": "616d146e-aa94-4bde-ac98-30d5f00e24a6"
      },
      "execution_count": null,
      "outputs": [
        {
          "output_type": "stream",
          "name": "stdout",
          "text": [
            "              precision    recall  f1-score   support\n",
            "\n",
            "           0       0.97      0.97      0.97     27461\n",
            "           1       0.71      0.73      0.72      2539\n",
            "\n",
            "    accuracy                           0.95     30000\n",
            "   macro avg       0.84      0.85      0.85     30000\n",
            "weighted avg       0.95      0.95      0.95     30000\n",
            "\n"
          ]
        }
      ]
    },
    {
      "cell_type": "markdown",
      "metadata": {
        "id": "8rQLHdOv77Hc"
      },
      "source": [
        "# **Linear Regression**"
      ]
    },
    {
      "cell_type": "code",
      "source": [
        "model = LinearRegression()\n",
        "model.fit(X_train,y_train)\n",
        "y_pred = model.predict(X_test)"
      ],
      "metadata": {
        "id": "ERHvKIIRuaZ2"
      },
      "execution_count": null,
      "outputs": []
    },
    {
      "cell_type": "markdown",
      "source": [
        "MAE"
      ],
      "metadata": {
        "id": "bEEG9DJFxnFp"
      }
    },
    {
      "cell_type": "code",
      "source": [
        "mean_absolute_error(y_test,y_pred)"
      ],
      "metadata": {
        "id": "DytVRC47ugxd",
        "colab": {
          "base_uri": "https://localhost:8080/"
        },
        "outputId": "d75889d4-1a31-4eea-b2ae-a5db46171984"
      },
      "execution_count": null,
      "outputs": [
        {
          "output_type": "execute_result",
          "data": {
            "text/plain": [
              "0.15463508334202164"
            ]
          },
          "metadata": {},
          "execution_count": 26
        }
      ]
    },
    {
      "cell_type": "markdown",
      "source": [
        "MSE"
      ],
      "metadata": {
        "id": "CJq-Rbm0xj8Q"
      }
    },
    {
      "cell_type": "code",
      "source": [
        "mean_squared_error(y_test,y_pred)"
      ],
      "metadata": {
        "id": "GpmFs-7iunAX",
        "colab": {
          "base_uri": "https://localhost:8080/"
        },
        "outputId": "1e62e5f8-5e5d-477e-8818-68374eea8022"
      },
      "execution_count": null,
      "outputs": [
        {
          "output_type": "execute_result",
          "data": {
            "text/plain": [
              "0.05091214598103132"
            ]
          },
          "metadata": {},
          "execution_count": 27
        }
      ]
    },
    {
      "cell_type": "markdown",
      "source": [
        "**Cross validation for linear regression**"
      ],
      "metadata": {
        "id": "XO9iidLR9OET"
      }
    },
    {
      "cell_type": "code",
      "source": [
        "# Perform cross-validation\n",
        "cv_scores = cross_val_score(model, X_train, y_train, cv=5, scoring='neg_mean_squared_error')\n",
        "\n",
        "# Convert negative MSE to positive\n",
        "cv_scores = np.abs(cv_scores)\n",
        "\n",
        "# Plotting the cross-validation scores\n",
        "plt.figure(figsize=(10, 6))\n",
        "plt.plot(range(1, len(cv_scores) + 1), cv_scores, marker='o', linestyle='--', color='b')\n",
        "plt.title('Cross-Validation Scores for Linear Regression')\n",
        "plt.xlabel('Fold Number')\n",
        "plt.ylabel('Mean Squared Error (MSE)')\n",
        "plt.xticks(range(1, len(cv_scores) + 1))\n",
        "plt.grid(True)\n",
        "plt.show()"
      ],
      "metadata": {
        "colab": {
          "base_uri": "https://localhost:8080/",
          "height": 564
        },
        "id": "1IF7YfDD8wJd",
        "outputId": "53f16f69-cc24-4096-eb91-f698cc851f26"
      },
      "execution_count": null,
      "outputs": [
        {
          "output_type": "display_data",
          "data": {
            "text/plain": [
              "<Figure size 1000x600 with 1 Axes>"
            ],
            "image/png": "[encoded data removed]"
          },
          "metadata": {}
        }
      ]
    },
    {
      "cell_type": "markdown",
      "metadata": {
        "id": "3CdTp2H48WTc"
      },
      "source": [
        "# **Decision Tree Classifier**"
      ]
    },
    {
      "cell_type": "code",
      "source": [
        "from sklearn.tree import DecisionTreeClassifier\n",
        "\n",
        "# Initialize the DecisionTreeClassifier with default parameters\n",
        "dtc = DecisionTreeClassifier()\n",
        "\n",
        "# Fit the model to the training data\n",
        "dtc.fit(X_train, y_train)"
      ],
      "metadata": {
        "colab": {
          "base_uri": "https://localhost:8080/",
          "height": 75
        },
        "id": "Mn2K4ei8wlUN",
        "outputId": "fdaa406c-39cd-4a88-c9a3-0d10b4e5195e"
      },
      "execution_count": null,
      "outputs": [
        {
          "output_type": "execute_result",
          "data": {
            "text/plain": [
              "DecisionTreeClassifier()"
            ],
            "text/html": [
              "<style>#sk-container-id-2 {color: black;}#sk-container-id-2 pre{padding: 0;}#sk-container-id-2 div.sk-toggleable {background-color: white;}#sk-container-id-2 label.sk-toggleable__label {cursor: pointer;display: block;width: 100%;margin-bottom: 0;padding: 0.3em;box-sizing: border-box;text-align: center;}#sk-container-id-2 label.sk-toggleable__label-arrow:before {content: \"▸\";float: left;margin-right: 0.25em;color: #696969;}#sk-container-id-2 label.sk-toggleable__label-arrow:hover:before {color: black;}#sk-container-id-2 div.sk-estimator:hover label.sk-toggleable__label-arrow:before {color: black;}#sk-container-id-2 div.sk-toggleable__content {max-height: 0;max-width: 0;overflow: hidden;text-align: left;background-color: #f0f8ff;}#sk-container-id-2 div.sk-toggleable__content pre {margin: 0.2em;color: black;border-radius: 0.25em;background-color: #f0f8ff;}#sk-container-id-2 input.sk-toggleable__control:checked~div.sk-toggleable__content {max-height: 200px;max-width: 100%;overflow: auto;}#sk-container-id-2 input.sk-toggleable__control:checked~label.sk-toggleable__label-arrow:before {content: \"▾\";}#sk-container-id-2 div.sk-estimator input.sk-toggleable__control:checked~label.sk-toggleable__label {background-color: #d4ebff;}#sk-container-id-2 div.sk-label input.sk-toggleable__control:checked~label.sk-toggleable__label {background-color: #d4ebff;}#sk-container-id-2 input.sk-hidden--visually {border: 0;clip: rect(1px 1px 1px 1px);clip: rect(1px, 1px, 1px, 1px);height: 1px;margin: -1px;overflow: hidden;padding: 0;position: absolute;width: 1px;}#sk-container-id-2 div.sk-estimator {font-family: monospace;background-color: #f0f8ff;border: 1px dotted black;border-radius: 0.25em;box-sizing: border-box;margin-bottom: 0.5em;}#sk-container-id-2 div.sk-estimator:hover {background-color: #d4ebff;}#sk-container-id-2 div.sk-parallel-item::after {content: \"\";width: 100%;border-bottom: 1px solid gray;flex-grow: 1;}#sk-container-id-2 div.sk-label:hover label.sk-toggleable__label {background-color: #d4ebff;}#sk-container-id-2 div.sk-serial::before {content: \"\";position: absolute;border-left: 1px solid gray;box-sizing: border-box;top: 0;bottom: 0;left: 50%;z-index: 0;}#sk-container-id-2 div.sk-serial {display: flex;flex-direction: column;align-items: center;background-color: white;padding-right: 0.2em;padding-left: 0.2em;position: relative;}#sk-container-id-2 div.sk-item {position: relative;z-index: 1;}#sk-container-id-2 div.sk-parallel {display: flex;align-items: stretch;justify-content: center;background-color: white;position: relative;}#sk-container-id-2 div.sk-item::before, #sk-container-id-2 div.sk-parallel-item::before {content: \"\";position: absolute;border-left: 1px solid gray;box-sizing: border-box;top: 0;bottom: 0;left: 50%;z-index: -1;}#sk-container-id-2 div.sk-parallel-item {display: flex;flex-direction: column;z-index: 1;position: relative;background-color: white;}#sk-container-id-2 div.sk-parallel-item:first-child::after {align-self: flex-end;width: 50%;}#sk-container-id-2 div.sk-parallel-item:last-child::after {align-self: flex-start;width: 50%;}#sk-container-id-2 div.sk-parallel-item:only-child::after {width: 0;}#sk-container-id-2 div.sk-dashed-wrapped {border: 1px dashed gray;margin: 0 0.4em 0.5em 0.4em;box-sizing: border-box;padding-bottom: 0.4em;background-color: white;}#sk-container-id-2 div.sk-label label {font-family: monospace;font-weight: bold;display: inline-block;line-height: 1.2em;}#sk-container-id-2 div.sk-label-container {text-align: center;}#sk-container-id-2 div.sk-container {/* jupyter's `normalize.less` sets `[hidden] { display: none; }` but bootstrap.min.css set `[hidden] { display: none !important; }` so we also need the `!important` here to be able to override the default hidden behavior on the sphinx rendered scikit-learn.org. See: https://github.com/scikit-learn/scikit-learn/issues/21755 */display: inline-block !important;position: relative;}#sk-container-id-2 div.sk-text-repr-fallback {display: none;}</style><div id=\"sk-container-id-2\" class=\"sk-top-container\"><div class=\"sk-text-repr-fallback\"><pre>DecisionTreeClassifier()</pre><b>In a Jupyter environment, please rerun this cell to show the HTML representation or trust the notebook. <br />On GitHub, the HTML representation is unable to render, please try loading this page with nbviewer.org.</b></div><div class=\"sk-container\" hidden><div class=\"sk-item\"><div class=\"sk-estimator sk-toggleable\"><input class=\"sk-toggleable__control sk-hidden--visually\" id=\"sk-estimator-id-2\" type=\"checkbox\" checked><label for=\"sk-estimator-id-2\" class=\"sk-toggleable__label sk-toggleable__label-arrow\">DecisionTreeClassifier</label><div class=\"sk-toggleable__content\"><pre>DecisionTreeClassifier()</pre></div></div></div></div></div>"
            ]
          },
          "metadata": {},
          "execution_count": 29
        }
      ]
    },
    {
      "cell_type": "code",
      "source": [
        "print(\"On train set: \",accuracy_score(y_train, dtc.predict(X_train)))\n",
        "\n",
        "dtc_acc = accuracy_score(y_test, dtc.predict(X_test))\n",
        "print(\"On test set: \",dtc_acc)"
      ],
      "metadata": {
        "id": "oArhal05uCEg",
        "colab": {
          "base_uri": "https://localhost:8080/"
        },
        "outputId": "65520300-9850-4fa0-fcb1-c18a4c9b3569"
      },
      "execution_count": null,
      "outputs": [
        {
          "output_type": "stream",
          "name": "stdout",
          "text": [
            "On train set:  0.9992428571428571\n",
            "On test set:  0.9497333333333333\n"
          ]
        }
      ]
    },
    {
      "cell_type": "code",
      "source": [
        "y_pred_dtc=dtc.predict(X_test)\n",
        "print(classification_report(y_test,y_pred_dtc))"
      ],
      "metadata": {
        "colab": {
          "base_uri": "https://localhost:8080/"
        },
        "id": "RQvOwQmkxySl",
        "outputId": "f9776ef4-7070-4ddb-ee9a-9b648aa3132c"
      },
      "execution_count": null,
      "outputs": [
        {
          "output_type": "stream",
          "name": "stdout",
          "text": [
            "              precision    recall  f1-score   support\n",
            "\n",
            "           0       0.98      0.97      0.97     27461\n",
            "           1       0.69      0.73      0.71      2539\n",
            "\n",
            "    accuracy                           0.95     30000\n",
            "   macro avg       0.83      0.85      0.84     30000\n",
            "weighted avg       0.95      0.95      0.95     30000\n",
            "\n"
          ]
        }
      ]
    },
    {
      "cell_type": "code",
      "source": [
        "y_pred = dtc.predict(X_test)\n",
        "confusion_matrix=confusion_matrix(y_test,y_pred)\n",
        "sns.heatmap(confusion_matrix/np.sum(confusion_matrix), annot=True, fmt='.2%', cmap='Blues')"
      ],
      "metadata": {
        "id": "flcsHPz2uTCo",
        "colab": {
          "base_uri": "https://localhost:8080/",
          "height": 447
        },
        "outputId": "f0f47f2e-52fa-485d-8d02-f25472101076"
      },
      "execution_count": null,
      "outputs": [
        {
          "output_type": "execute_result",
          "data": {
            "text/plain": [
              "<Axes: >"
            ]
          },
          "metadata": {},
          "execution_count": 33
        },
        {
          "output_type": "display_data",
          "data": {
            "text/plain": [
              "<Figure size 640x480 with 2 Axes>"
            ],
            "image/png": "[encoded data removed]"
          },
          "metadata": {}
        }
      ]
    },
    {
      "cell_type": "markdown",
      "source": [
        "# **Evaluating models**"
      ],
      "metadata": {
        "id": "AbYTeZqc3Vm_"
      }
    },
    {
      "cell_type": "code",
      "source": [
        "models = {\n",
        "    \"Random Forest\": clf,\n",
        "    \"KNN\": knn,\n",
        "    \"AdaBoost\": ada,\n",
        "    \"Linear Regression\": model,\n",
        "    \"Decision Tree Classifier\": dtc,\n",
        "}\n",
        "\n",
        "# Replace 'y_true' with your actual labels\n",
        "y_true = y_test\n",
        "\n",
        "# Dictionary to store the results\n",
        "results = {\n",
        "    \"Model\": [],\n",
        "    \"Accuracy\": [],\n",
        "    \"Precision\": [],\n",
        "    \"F1 Score (Macro)\": []\n",
        "\n",
        "}\n",
        "\n",
        "# Evaluate each model\n",
        "for name, model in models.items():\n",
        "    y_pred = model.predict(X_test)\n",
        "    accuracy = accuracy_score(y_true, y_pred)\n",
        "    precision = precision_score(y_true, y_pred)\n",
        "    f1_macro = f1_score(y_true, y_pred, average='macro')\n",
        "\n",
        "    # Append each result to the dictionnary\n",
        "    results[\"Model\"].append(name)\n",
        "    results[\"Accuracy\"].append(accuracy)\n",
        "    results[\"Precision\"].append(precision)\n",
        "    results[\"F1 Score (Macro)\"].append(f1_macro)\n",
        "\n",
        "\n",
        "# Create a DataFrame to display the results\n",
        "results_df = pd.DataFrame(results)\n",
        "\n",
        "# Display the table\n",
        "print(results_df)\n"
      ],
      "metadata": {
        "colab": {
          "base_uri": "https://localhost:8080/"
        },
        "id": "3G4gPGan2mg3",
        "outputId": "174c5358-d971-40c4-9138-6723f0bfef7b"
      },
      "execution_count": null,
      "outputs": [
        {
          "output_type": "stream",
          "name": "stdout",
          "text": [
            "                      Model  Accuracy  Precision  F1 Score (Macro)\n",
            "0             Random Forest  0.931400   1.000000          0.641213\n",
            "1                       KNN  0.953833   0.904062          0.813076\n",
            "2                  AdaBoost  0.952367   0.714120          0.847726\n",
            "3         Linear Regression  0.949733   0.691850          0.841956\n",
            "4  Decision Tree Classifier  0.949733   0.691850          0.841956\n"
          ]
        }
      ]
    },
    {
      "cell_type": "markdown",
      "source": [
        "**KNN** is the leading model **in terms of accuracy**, achieving the highest score of **95.38%**. However, while **Random Forest** boasts perfect **precision**, its F1 Score is relatively lower, indicating it might be overfitting on certain classes. AdaBoost, with the highest **F1 Score (Macro)** of **0.847726**, suggests a better balance between precision and recall across all classes."
      ],
      "metadata": {
        "id": "1dic_0e24TIm"
      }
    },
    {
      "cell_type": "markdown",
      "source": [
        "Therefore, **AdaBoost** could be the considered the most **balanced**"
      ],
      "metadata": {
        "id": "OyOcbtv_77yG"
      }
    }
  ],
  "metadata": {
    "colab": {
      "provenance": [],
      "authorship_tag": "ABX9TyOB+lK51+5UjPmY2crlW6it",
      "include_colab_link": true
    },
    "kernelspec": {
      "display_name": "Python 3",
      "name": "python3"
    },
    "language_info": {
      "name": "python"
    }
  },
  "nbformat": 4,
  "nbformat_minor": 0
}