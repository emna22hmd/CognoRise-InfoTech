{
  "cells": [
    {
      "cell_type": "markdown",
      "metadata": {
        "id": "view-in-github",
        "colab_type": "text"
      },
      "source": [
        "<a href=\"https://colab.research.google.com/github/emna22hmd/CognoRise-InfoTech/blob/main/House_Price_Prediction.ipynb\" target=\"_parent\"><img src=\"https://colab.research.google.com/assets/colab-badge.svg\" alt=\"Open In Colab\"/></a>"
      ]
    },
    {
      "cell_type": "markdown",
      "metadata": {
        "id": "EpDdNNOIWOlb"
      },
      "source": [
        "# **Task 2: House Price Prediction**\n",
        "![task2.jpg](data:image/jpeg;base64,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)\n"
      ]
    },
    {
      "cell_type": "markdown",
      "metadata": {
        "id": "HX5Il1zqXFSI"
      },
      "source": [
        "**Algorithms**: Linear Regression,random forest regression ,decision tree regression,\n",
        "gradient boosting regressor\n"
      ]
    },
    {
      "cell_type": "markdown",
      "metadata": {
        "id": "3mkdEVH5Xaon"
      },
      "source": [
        "**Description**: Predict house prices based on features like area, number of bedrooms,\n",
        "and location.\n",
        "\n",
        "---\n",
        "\n"
      ]
    },
    {
      "cell_type": "markdown",
      "metadata": {
        "id": "WOIetPP_XxbT"
      },
      "source": [
        "# **Context**"
      ]
    },
    {
      "cell_type": "markdown",
      "metadata": {
        "id": "XNPxEwg8X1v8"
      },
      "source": [
        "The real estate markets, like those in Sydney and Melbourne, present an interesting opportunity for data analysts to analyze and predict where property prices are moving towards. Prediction of property prices is becoming increasingly important and beneficial. Property prices are a good indicator of both the overall market condition and the economic state of a country. Considering the data provided, we are wrangling a large set of property sales records."
      ]
    },
    {
      "cell_type": "markdown",
      "source": [
        "Link of the dataset: https://www.kaggle.com/datasets/shree1992/housedata"
      ],
      "metadata": {
        "id": "b5MRMm_0_xh8"
      }
    },
    {
      "cell_type": "markdown",
      "metadata": {
        "id": "j0e8N5ZMmY7W"
      },
      "source": [
        "# **Importing libraries**"
      ]
    },
    {
      "cell_type": "code",
      "execution_count": null,
      "metadata": {
        "id": "LQTfxCm7mem3"
      },
      "outputs": [],
      "source": [
        "import pandas as pd\n",
        "import seaborn as sns\n",
        "import matplotlib.pyplot as plt\n",
        "from sklearn.model_selection import train_test_split\n",
        "from sklearn.pipeline import Pipeline\n",
        "from sklearn.ensemble import RandomForestClassifier\n",
        "from sklearn.datasets import make_classification\n",
        "from sklearn.model_selection import cross_val_score\n",
        "from sklearn.metrics import accuracy_score\n",
        "from sklearn.model_selection import GridSearchCV\n",
        "from sklearn.model_selection import cross_val_score\n",
        "from sklearn.metrics import precision_score, recall_score, confusion_matrix, classification_report, accuracy_score, f1_score\n",
        "from sklearn import metrics\n",
        "from sklearn.neighbors import KNeighborsClassifier\n",
        "import numpy as np\n",
        "import seaborn as sns\n",
        "from sklearn.metrics import confusion_matrix\n",
        "from sklearn.linear_model import LogisticRegression\n",
        "from sklearn.linear_model import LinearRegression\n",
        "from sklearn import linear_model\n",
        "from sklearn.metrics import mean_absolute_error, mean_absolute_percentage_error, mean_squared_error"
      ]
    },
    {
      "cell_type": "markdown",
      "metadata": {
        "id": "-42_z4olklZM"
      },
      "source": [
        "# **Reading and analysing the data**"
      ]
    },
    {
      "cell_type": "code",
      "execution_count": null,
      "metadata": {
        "colab": {
          "base_uri": "https://localhost:8080/"
        },
        "id": "8GmMPD81V2a8",
        "outputId": "bc9ff34b-fc9e-4de1-f6a1-63037ef95756"
      },
      "outputs": [
        {
          "output_type": "stream",
          "name": "stdout",
          "text": [
            "Archive:  HousePriceData.zip\n",
            "  inflating: data.csv                \n",
            "  inflating: data.dat                \n",
            "  inflating: output.csv              \n"
          ]
        }
      ],
      "source": [
        "! unzip HousePriceData.zip"
      ]
    },
    {
      "cell_type": "code",
      "execution_count": null,
      "metadata": {
        "id": "L26KTWtBmMy-"
      },
      "outputs": [],
      "source": [
        "data=pd.read_csv(\"data.csv\")"
      ]
    },
    {
      "cell_type": "code",
      "execution_count": null,
      "metadata": {
        "colab": {
          "base_uri": "https://localhost:8080/",
          "height": 417
        },
        "id": "m1m74anboMAH",
        "outputId": "d86315c4-14ab-45b2-9058-d2cad50ef9a6"
      },
      "outputs": [
        {
          "output_type": "execute_result",
          "data": {
            "text/plain": [
              "                  date      price  bedrooms  bathrooms  sqft_living  sqft_lot  \\\n",
              "0  2014-05-02 00:00:00   313000.0       3.0       1.50         1340      7912   \n",
              "1  2014-05-02 00:00:00  2384000.0       5.0       2.50         3650      9050   \n",
              "2  2014-05-02 00:00:00   342000.0       3.0       2.00         1930     11947   \n",
              "3  2014-05-02 00:00:00   420000.0       3.0       2.25         2000      8030   \n",
              "4  2014-05-02 00:00:00   550000.0       4.0       2.50         1940     10500   \n",
              "\n",
              "   floors  waterfront  view  condition  sqft_above  sqft_basement  yr_built  \\\n",
              "0     1.5           0     0          3        1340              0      1955   \n",
              "1     2.0           0     4          5        3370            280      1921   \n",
              "2     1.0           0     0          4        1930              0      1966   \n",
              "3     1.0           0     0          4        1000           1000      1963   \n",
              "4     1.0           0     0          4        1140            800      1976   \n",
              "\n",
              "   yr_renovated                    street       city  statezip country  \n",
              "0          2005      18810 Densmore Ave N  Shoreline  WA 98133     USA  \n",
              "1             0           709 W Blaine St    Seattle  WA 98119     USA  \n",
              "2             0  26206-26214 143rd Ave SE       Kent  WA 98042     USA  \n",
              "3             0           857 170th Pl NE   Bellevue  WA 98008     USA  \n",
              "4          1992         9105 170th Ave NE    Redmond  WA 98052     USA  "
            ],
            "text/html": [
              "\n",
              "  <div id=\"df-1b03ed78-6411-4370-a1cd-0a21b13237c0\" class=\"colab-df-container\">\n",
              "    <div>\n",
              "<style scoped>\n",
              "    .dataframe tbody tr th:only-of-type {\n",
              "        vertical-align: middle;\n",
              "    }\n",
              "\n",
              "    .dataframe tbody tr th {\n",
              "        vertical-align: top;\n",
              "    }\n",
              "\n",
              "    .dataframe thead th {\n",
              "        text-align: right;\n",
              "    }\n",
              "</style>\n",
              "<table border=\"1\" class=\"dataframe\">\n",
              "  <thead>\n",
              "    <tr style=\"text-align: right;\">\n",
              "      <th></th>\n",
              "      <th>date</th>\n",
              "      <th>price</th>\n",
              "      <th>bedrooms</th>\n",
              "      <th>bathrooms</th>\n",
              "      <th>sqft_living</th>\n",
              "      <th>sqft_lot</th>\n",
              "      <th>floors</th>\n",
              "      <th>waterfront</th>\n",
              "      <th>view</th>\n",
              "      <th>condition</th>\n",
              "      <th>sqft_above</th>\n",
              "      <th>sqft_basement</th>\n",
              "      <th>yr_built</th>\n",
              "      <th>yr_renovated</th>\n",
              "      <th>street</th>\n",
              "      <th>city</th>\n",
              "      <th>statezip</th>\n",
              "      <th>country</th>\n",
              "    </tr>\n",
              "  </thead>\n",
              "  <tbody>\n",
              "    <tr>\n",
              "      <th>0</th>\n",
              "      <td>2014-05-02 00:00:00</td>\n",
              "      <td>313000.0</td>\n",
              "      <td>3.0</td>\n",
              "      <td>1.50</td>\n",
              "      <td>1340</td>\n",
              "      <td>7912</td>\n",
              "      <td>1.5</td>\n",
              "      <td>0</td>\n",
              "      <td>0</td>\n",
              "      <td>3</td>\n",
              "      <td>1340</td>\n",
              "      <td>0</td>\n",
              "      <td>1955</td>\n",
              "      <td>2005</td>\n",
              "      <td>18810 Densmore Ave N</td>\n",
              "      <td>Shoreline</td>\n",
              "      <td>WA 98133</td>\n",
              "      <td>USA</td>\n",
              "    </tr>\n",
              "    <tr>\n",
              "      <th>1</th>\n",
              "      <td>2014-05-02 00:00:00</td>\n",
              "      <td>2384000.0</td>\n",
              "      <td>5.0</td>\n",
              "      <td>2.50</td>\n",
              "      <td>3650</td>\n",
              "      <td>9050</td>\n",
              "      <td>2.0</td>\n",
              "      <td>0</td>\n",
              "      <td>4</td>\n",
              "      <td>5</td>\n",
              "      <td>3370</td>\n",
              "      <td>280</td>\n",
              "      <td>1921</td>\n",
              "      <td>0</td>\n",
              "      <td>709 W Blaine St</td>\n",
              "      <td>Seattle</td>\n",
              "      <td>WA 98119</td>\n",
              "      <td>USA</td>\n",
              "    </tr>\n",
              "    <tr>\n",
              "      <th>2</th>\n",
              "      <td>2014-05-02 00:00:00</td>\n",
              "      <td>342000.0</td>\n",
              "      <td>3.0</td>\n",
              "      <td>2.00</td>\n",
              "      <td>1930</td>\n",
              "      <td>11947</td>\n",
              "      <td>1.0</td>\n",
              "      <td>0</td>\n",
              "      <td>0</td>\n",
              "      <td>4</td>\n",
              "      <td>1930</td>\n",
              "      <td>0</td>\n",
              "      <td>1966</td>\n",
              "      <td>0</td>\n",
              "      <td>26206-26214 143rd Ave SE</td>\n",
              "      <td>Kent</td>\n",
              "      <td>WA 98042</td>\n",
              "      <td>USA</td>\n",
              "    </tr>\n",
              "    <tr>\n",
              "      <th>3</th>\n",
              "      <td>2014-05-02 00:00:00</td>\n",
              "      <td>420000.0</td>\n",
              "      <td>3.0</td>\n",
              "      <td>2.25</td>\n",
              "      <td>2000</td>\n",
              "      <td>8030</td>\n",
              "      <td>1.0</td>\n",
              "      <td>0</td>\n",
              "      <td>0</td>\n",
              "      <td>4</td>\n",
              "      <td>1000</td>\n",
              "      <td>1000</td>\n",
              "      <td>1963</td>\n",
              "      <td>0</td>\n",
              "      <td>857 170th Pl NE</td>\n",
              "      <td>Bellevue</td>\n",
              "      <td>WA 98008</td>\n",
              "      <td>USA</td>\n",
              "    </tr>\n",
              "    <tr>\n",
              "      <th>4</th>\n",
              "      <td>2014-05-02 00:00:00</td>\n",
              "      <td>550000.0</td>\n",
              "      <td>4.0</td>\n",
              "      <td>2.50</td>\n",
              "      <td>1940</td>\n",
              "      <td>10500</td>\n",
              "      <td>1.0</td>\n",
              "      <td>0</td>\n",
              "      <td>0</td>\n",
              "      <td>4</td>\n",
              "      <td>1140</td>\n",
              "      <td>800</td>\n",
              "      <td>1976</td>\n",
              "      <td>1992</td>\n",
              "      <td>9105 170th Ave NE</td>\n",
              "      <td>Redmond</td>\n",
              "      <td>WA 98052</td>\n",
              "      <td>USA</td>\n",
              "    </tr>\n",
              "  </tbody>\n",
              "</table>\n",
              "</div>\n",
              "    <div class=\"colab-df-buttons\">\n",
              "\n",
              "  <div class=\"colab-df-container\">\n",
              "    <button class=\"colab-df-convert\" onclick=\"convertToInteractive('df-1b03ed78-6411-4370-a1cd-0a21b13237c0')\"\n",
              "            title=\"Convert this dataframe to an interactive table.\"\n",
              "            style=\"display:none;\">\n",
              "\n",
              "  <svg xmlns=\"http://www.w3.org/2000/svg\" height=\"24px\" viewBox=\"0 -960 960 960\">\n",
              "    <path d=\"M120-120v-720h720v720H120Zm60-500h600v-160H180v160Zm220 220h160v-160H400v160Zm0 220h160v-160H400v160ZM180-400h160v-160H180v160Zm440 0h160v-160H620v160ZM180-180h160v-160H180v160Zm440 0h160v-160H620v160Z\"/>\n",
              "  </svg>\n",
              "    </button>\n",
              "\n",
              "  <style>\n",
              "    .colab-df-container {\n",
              "      display:flex;\n",
              "      gap: 12px;\n",
              "    }\n",
              "\n",
              "    .colab-df-convert {\n",
              "      background-color: #E8F0FE;\n",
              "      border: none;\n",
              "      border-radius: 50%;\n",
              "      cursor: pointer;\n",
              "      display: none;\n",
              "      fill: #1967D2;\n",
              "      height: 32px;\n",
              "      padding: 0 0 0 0;\n",
              "      width: 32px;\n",
              "    }\n",
              "\n",
              "    .colab-df-convert:hover {\n",
              "      background-color: #E2EBFA;\n",
              "      box-shadow: 0px 1px 2px rgba(60, 64, 67, 0.3), 0px 1px 3px 1px rgba(60, 64, 67, 0.15);\n",
              "      fill: #174EA6;\n",
              "    }\n",
              "\n",
              "    .colab-df-buttons div {\n",
              "      margin-bottom: 4px;\n",
              "    }\n",
              "\n",
              "    [theme=dark] .colab-df-convert {\n",
              "      background-color: #3B4455;\n",
              "      fill: #D2E3FC;\n",
              "    }\n",
              "\n",
              "    [theme=dark] .colab-df-convert:hover {\n",
              "      background-color: #434B5C;\n",
              "      box-shadow: 0px 1px 3px 1px rgba(0, 0, 0, 0.15);\n",
              "      filter: drop-shadow(0px 1px 2px rgba(0, 0, 0, 0.3));\n",
              "      fill: #FFFFFF;\n",
              "    }\n",
              "  </style>\n",
              "\n",
              "    <script>\n",
              "      const buttonEl =\n",
              "        document.querySelector('#df-1b03ed78-6411-4370-a1cd-0a21b13237c0 button.colab-df-convert');\n",
              "      buttonEl.style.display =\n",
              "        google.colab.kernel.accessAllowed ? 'block' : 'none';\n",
              "\n",
              "      async function convertToInteractive(key) {\n",
              "        const element = document.querySelector('#df-1b03ed78-6411-4370-a1cd-0a21b13237c0');\n",
              "        const dataTable =\n",
              "          await google.colab.kernel.invokeFunction('convertToInteractive',\n",
              "                                                    [key], {});\n",
              "        if (!dataTable) return;\n",
              "\n",
              "        const docLinkHtml = 'Like what you see? Visit the ' +\n",
              "          '<a target=\"_blank\" href=https://colab.research.google.com/notebooks/data_table.ipynb>data table notebook</a>'\n",
              "          + ' to learn more about interactive tables.';\n",
              "        element.innerHTML = '';\n",
              "        dataTable['output_type'] = 'display_data';\n",
              "        await google.colab.output.renderOutput(dataTable, element);\n",
              "        const docLink = document.createElement('div');\n",
              "        docLink.innerHTML = docLinkHtml;\n",
              "        element.appendChild(docLink);\n",
              "      }\n",
              "    </script>\n",
              "  </div>\n",
              "\n",
              "\n",
              "<div id=\"df-e1904721-54e1-4a17-a6b8-5110f891fc37\">\n",
              "  <button class=\"colab-df-quickchart\" onclick=\"quickchart('df-e1904721-54e1-4a17-a6b8-5110f891fc37')\"\n",
              "            title=\"Suggest charts\"\n",
              "            style=\"display:none;\">\n",
              "\n",
              "<svg xmlns=\"http://www.w3.org/2000/svg\" height=\"24px\"viewBox=\"0 0 24 24\"\n",
              "     width=\"24px\">\n",
              "    <g>\n",
              "        <path d=\"M19 3H5c-1.1 0-2 .9-2 2v14c0 1.1.9 2 2 2h14c1.1 0 2-.9 2-2V5c0-1.1-.9-2-2-2zM9 17H7v-7h2v7zm4 0h-2V7h2v10zm4 0h-2v-4h2v4z\"/>\n",
              "    </g>\n",
              "</svg>\n",
              "  </button>\n",
              "\n",
              "<style>\n",
              "  .colab-df-quickchart {\n",
              "      --bg-color: #E8F0FE;\n",
              "      --fill-color: #1967D2;\n",
              "      --hover-bg-color: #E2EBFA;\n",
              "      --hover-fill-color: #174EA6;\n",
              "      --disabled-fill-color: #AAA;\n",
              "      --disabled-bg-color: #DDD;\n",
              "  }\n",
              "\n",
              "  [theme=dark] .colab-df-quickchart {\n",
              "      --bg-color: #3B4455;\n",
              "      --fill-color: #D2E3FC;\n",
              "      --hover-bg-color: #434B5C;\n",
              "      --hover-fill-color: #FFFFFF;\n",
              "      --disabled-bg-color: #3B4455;\n",
              "      --disabled-fill-color: #666;\n",
              "  }\n",
              "\n",
              "  .colab-df-quickchart {\n",
              "    background-color: var(--bg-color);\n",
              "    border: none;\n",
              "    border-radius: 50%;\n",
              "    cursor: pointer;\n",
              "    display: none;\n",
              "    fill: var(--fill-color);\n",
              "    height: 32px;\n",
              "    padding: 0;\n",
              "    width: 32px;\n",
              "  }\n",
              "\n",
              "  .colab-df-quickchart:hover {\n",
              "    background-color: var(--hover-bg-color);\n",
              "    box-shadow: 0 1px 2px rgba(60, 64, 67, 0.3), 0 1px 3px 1px rgba(60, 64, 67, 0.15);\n",
              "    fill: var(--button-hover-fill-color);\n",
              "  }\n",
              "\n",
              "  .colab-df-quickchart-complete:disabled,\n",
              "  .colab-df-quickchart-complete:disabled:hover {\n",
              "    background-color: var(--disabled-bg-color);\n",
              "    fill: var(--disabled-fill-color);\n",
              "    box-shadow: none;\n",
              "  }\n",
              "\n",
              "  .colab-df-spinner {\n",
              "    border: 2px solid var(--fill-color);\n",
              "    border-color: transparent;\n",
              "    border-bottom-color: var(--fill-color);\n",
              "    animation:\n",
              "      spin 1s steps(1) infinite;\n",
              "  }\n",
              "\n",
              "  @keyframes spin {\n",
              "    0% {\n",
              "      border-color: transparent;\n",
              "      border-bottom-color: var(--fill-color);\n",
              "      border-left-color: var(--fill-color);\n",
              "    }\n",
              "    20% {\n",
              "      border-color: transparent;\n",
              "      border-left-color: var(--fill-color);\n",
              "      border-top-color: var(--fill-color);\n",
              "    }\n",
              "    30% {\n",
              "      border-color: transparent;\n",
              "      border-left-color: var(--fill-color);\n",
              "      border-top-color: var(--fill-color);\n",
              "      border-right-color: var(--fill-color);\n",
              "    }\n",
              "    40% {\n",
              "      border-color: transparent;\n",
              "      border-right-color: var(--fill-color);\n",
              "      border-top-color: var(--fill-color);\n",
              "    }\n",
              "    60% {\n",
              "      border-color: transparent;\n",
              "      border-right-color: var(--fill-color);\n",
              "    }\n",
              "    80% {\n",
              "      border-color: transparent;\n",
              "      border-right-color: var(--fill-color);\n",
              "      border-bottom-color: var(--fill-color);\n",
              "    }\n",
              "    90% {\n",
              "      border-color: transparent;\n",
              "      border-bottom-color: var(--fill-color);\n",
              "    }\n",
              "  }\n",
              "</style>\n",
              "\n",
              "  <script>\n",
              "    async function quickchart(key) {\n",
              "      const quickchartButtonEl =\n",
              "        document.querySelector('#' + key + ' button');\n",
              "      quickchartButtonEl.disabled = true;  // To prevent multiple clicks.\n",
              "      quickchartButtonEl.classList.add('colab-df-spinner');\n",
              "      try {\n",
              "        const charts = await google.colab.kernel.invokeFunction(\n",
              "            'suggestCharts', [key], {});\n",
              "      } catch (error) {\n",
              "        console.error('Error during call to suggestCharts:', error);\n",
              "      }\n",
              "      quickchartButtonEl.classList.remove('colab-df-spinner');\n",
              "      quickchartButtonEl.classList.add('colab-df-quickchart-complete');\n",
              "    }\n",
              "    (() => {\n",
              "      let quickchartButtonEl =\n",
              "        document.querySelector('#df-e1904721-54e1-4a17-a6b8-5110f891fc37 button');\n",
              "      quickchartButtonEl.style.display =\n",
              "        google.colab.kernel.accessAllowed ? 'block' : 'none';\n",
              "    })();\n",
              "  </script>\n",
              "</div>\n",
              "\n",
              "    </div>\n",
              "  </div>\n"
            ],
            "application/vnd.google.colaboratory.intrinsic+json": {
              "type": "dataframe",
              "variable_name": "data",
              "summary": "{\n  \"name\": \"data\",\n  \"rows\": 4600,\n  \"fields\": [\n    {\n      \"column\": \"date\",\n      \"properties\": {\n        \"dtype\": \"object\",\n        \"num_unique_values\": 70,\n        \"samples\": [\n          \"2014-05-24 00:00:00\",\n          \"2014-05-02 00:00:00\",\n          \"2014-06-20 00:00:00\"\n        ],\n        \"semantic_type\": \"\",\n        \"description\": \"\"\n      }\n    },\n    {\n      \"column\": \"price\",\n      \"properties\": {\n        \"dtype\": \"number\",\n        \"std\": 563834.7025471414,\n        \"min\": 0.0,\n        \"max\": 26590000.0,\n        \"num_unique_values\": 1741,\n        \"samples\": [\n          689900.0,\n          170500.0,\n          466800.0\n        ],\n        \"semantic_type\": \"\",\n        \"description\": \"\"\n      }\n    },\n    {\n      \"column\": \"bedrooms\",\n      \"properties\": {\n        \"dtype\": \"number\",\n        \"std\": 0.9088481155258186,\n        \"min\": 0.0,\n        \"max\": 9.0,\n        \"num_unique_values\": 10,\n        \"samples\": [\n          8.0,\n          5.0,\n          7.0\n        ],\n        \"semantic_type\": \"\",\n        \"description\": \"\"\n      }\n    },\n    {\n      \"column\": \"bathrooms\",\n      \"properties\": {\n        \"dtype\": \"number\",\n        \"std\": 0.7837810746502805,\n        \"min\": 0.0,\n        \"max\": 8.0,\n        \"num_unique_values\": 26,\n        \"samples\": [\n          3.25,\n          5.75,\n          1.5\n        ],\n        \"semantic_type\": \"\",\n        \"description\": \"\"\n      }\n    },\n    {\n      \"column\": \"sqft_living\",\n      \"properties\": {\n        \"dtype\": \"number\",\n        \"std\": 963,\n        \"min\": 370,\n        \"max\": 13540,\n        \"num_unique_values\": 566,\n        \"samples\": [\n          1785,\n          2701,\n          2840\n        ],\n        \"semantic_type\": \"\",\n        \"description\": \"\"\n      }\n    },\n    {\n      \"column\": \"sqft_lot\",\n      \"properties\": {\n        \"dtype\": \"number\",\n        \"std\": 35884,\n        \"min\": 638,\n        \"max\": 1074218,\n        \"num_unique_values\": 3113,\n        \"samples\": [\n          5540,\n          9292,\n          17334\n        ],\n        \"semantic_type\": \"\",\n        \"description\": \"\"\n      }\n    },\n    {\n      \"column\": \"floors\",\n      \"properties\": {\n        \"dtype\": \"number\",\n        \"std\": 0.5382883772969885,\n        \"min\": 1.0,\n        \"max\": 3.5,\n        \"num_unique_values\": 6,\n        \"samples\": [\n          1.5,\n          2.0,\n          3.5\n        ],\n        \"semantic_type\": \"\",\n        \"description\": \"\"\n      }\n    },\n    {\n      \"column\": \"waterfront\",\n      \"properties\": {\n        \"dtype\": \"number\",\n        \"std\": 0,\n        \"min\": 0,\n        \"max\": 1,\n        \"num_unique_values\": 2,\n        \"samples\": [\n          1,\n          0\n        ],\n        \"semantic_type\": \"\",\n        \"description\": \"\"\n      }\n    },\n    {\n      \"column\": \"view\",\n      \"properties\": {\n        \"dtype\": \"number\",\n        \"std\": 0,\n        \"min\": 0,\n        \"max\": 4,\n        \"num_unique_values\": 5,\n        \"samples\": [\n          4,\n          3\n        ],\n        \"semantic_type\": \"\",\n        \"description\": \"\"\n      }\n    },\n    {\n      \"column\": \"condition\",\n      \"properties\": {\n        \"dtype\": \"number\",\n        \"std\": 0,\n        \"min\": 1,\n        \"max\": 5,\n        \"num_unique_values\": 5,\n        \"samples\": [\n          5,\n          1\n        ],\n        \"semantic_type\": \"\",\n        \"description\": \"\"\n      }\n    },\n    {\n      \"column\": \"sqft_above\",\n      \"properties\": {\n        \"dtype\": \"number\",\n        \"std\": 862,\n        \"min\": 370,\n        \"max\": 9410,\n        \"num_unique_values\": 511,\n        \"samples\": [\n          2280,\n          2230\n        ],\n        \"semantic_type\": \"\",\n        \"description\": \"\"\n      }\n    },\n    {\n      \"column\": \"sqft_basement\",\n      \"properties\": {\n        \"dtype\": \"number\",\n        \"std\": 464,\n        \"min\": 0,\n        \"max\": 4820,\n        \"num_unique_values\": 207,\n        \"samples\": [\n          460,\n          310\n        ],\n        \"semantic_type\": \"\",\n        \"description\": \"\"\n      }\n    },\n    {\n      \"column\": \"yr_built\",\n      \"properties\": {\n        \"dtype\": \"number\",\n        \"std\": 29,\n        \"min\": 1900,\n        \"max\": 2014,\n        \"num_unique_values\": 115,\n        \"samples\": [\n          1926,\n          1976\n        ],\n        \"semantic_type\": \"\",\n        \"description\": \"\"\n      }\n    },\n    {\n      \"column\": \"yr_renovated\",\n      \"properties\": {\n        \"dtype\": \"number\",\n        \"std\": 979,\n        \"min\": 0,\n        \"max\": 2014,\n        \"num_unique_values\": 60,\n        \"samples\": [\n          2005,\n          1988\n        ],\n        \"semantic_type\": \"\",\n        \"description\": \"\"\n      }\n    },\n    {\n      \"column\": \"street\",\n      \"properties\": {\n        \"dtype\": \"string\",\n        \"num_unique_values\": 4525,\n        \"samples\": [\n          \"743 N 80th St\",\n          \"157 Pike St NE\"\n        ],\n        \"semantic_type\": \"\",\n        \"description\": \"\"\n      }\n    },\n    {\n      \"column\": \"city\",\n      \"properties\": {\n        \"dtype\": \"category\",\n        \"num_unique_values\": 44,\n        \"samples\": [\n          \"Medina\",\n          \"Inglewood-Finn Hill\"\n        ],\n        \"semantic_type\": \"\",\n        \"description\": \"\"\n      }\n    },\n    {\n      \"column\": \"statezip\",\n      \"properties\": {\n        \"dtype\": \"category\",\n        \"num_unique_values\": 77,\n        \"samples\": [\n          \"WA 98052\",\n          \"WA 98075\"\n        ],\n        \"semantic_type\": \"\",\n        \"description\": \"\"\n      }\n    },\n    {\n      \"column\": \"country\",\n      \"properties\": {\n        \"dtype\": \"category\",\n        \"num_unique_values\": 1,\n        \"samples\": [\n          \"USA\"\n        ],\n        \"semantic_type\": \"\",\n        \"description\": \"\"\n      }\n    }\n  ]\n}"
            }
          },
          "metadata": {},
          "execution_count": 4
        }
      ],
      "source": [
        "data.head()"
      ]
    },
    {
      "cell_type": "code",
      "execution_count": null,
      "metadata": {
        "colab": {
          "base_uri": "https://localhost:8080/",
          "height": 457
        },
        "id": "UZ3mdqm0tp39",
        "outputId": "9f841e7d-97b5-4140-fdcc-987d44a2fcad"
      },
      "outputs": [
        {
          "output_type": "execute_result",
          "data": {
            "text/plain": [
              "                count           mean            std     min        25%  \\\n",
              "price          4600.0  551962.988473  563834.702547     0.0  322875.00   \n",
              "bedrooms       4600.0       3.400870       0.908848     0.0       3.00   \n",
              "bathrooms      4600.0       2.160815       0.783781     0.0       1.75   \n",
              "sqft_living    4600.0    2139.346957     963.206916   370.0    1460.00   \n",
              "sqft_lot       4600.0   14852.516087   35884.436145   638.0    5000.75   \n",
              "floors         4600.0       1.512065       0.538288     1.0       1.00   \n",
              "waterfront     4600.0       0.007174       0.084404     0.0       0.00   \n",
              "view           4600.0       0.240652       0.778405     0.0       0.00   \n",
              "condition      4600.0       3.451739       0.677230     1.0       3.00   \n",
              "sqft_above     4600.0    1827.265435     862.168977   370.0    1190.00   \n",
              "sqft_basement  4600.0     312.081522     464.137228     0.0       0.00   \n",
              "yr_built       4600.0    1970.786304      29.731848  1900.0    1951.00   \n",
              "yr_renovated   4600.0     808.608261     979.414536     0.0       0.00   \n",
              "\n",
              "                         50%        75%         max  \n",
              "price          460943.461539  654962.50  26590000.0  \n",
              "bedrooms            3.000000       4.00         9.0  \n",
              "bathrooms           2.250000       2.50         8.0  \n",
              "sqft_living      1980.000000    2620.00     13540.0  \n",
              "sqft_lot         7683.000000   11001.25   1074218.0  \n",
              "floors              1.500000       2.00         3.5  \n",
              "waterfront          0.000000       0.00         1.0  \n",
              "view                0.000000       0.00         4.0  \n",
              "condition           3.000000       4.00         5.0  \n",
              "sqft_above       1590.000000    2300.00      9410.0  \n",
              "sqft_basement       0.000000     610.00      4820.0  \n",
              "yr_built         1976.000000    1997.00      2014.0  \n",
              "yr_renovated        0.000000    1999.00      2014.0  "
            ],
            "text/html": [
              "\n",
              "  <div id=\"df-1c4320af-c780-4275-8a74-1f2d05ee11fd\" class=\"colab-df-container\">\n",
              "    <div>\n",
              "<style scoped>\n",
              "    .dataframe tbody tr th:only-of-type {\n",
              "        vertical-align: middle;\n",
              "    }\n",
              "\n",
              "    .dataframe tbody tr th {\n",
              "        vertical-align: top;\n",
              "    }\n",
              "\n",
              "    .dataframe thead th {\n",
              "        text-align: right;\n",
              "    }\n",
              "</style>\n",
              "<table border=\"1\" class=\"dataframe\">\n",
              "  <thead>\n",
              "    <tr style=\"text-align: right;\">\n",
              "      <th></th>\n",
              "      <th>count</th>\n",
              "      <th>mean</th>\n",
              "      <th>std</th>\n",
              "      <th>min</th>\n",
              "      <th>25%</th>\n",
              "      <th>50%</th>\n",
              "      <th>75%</th>\n",
              "      <th>max</th>\n",
              "    </tr>\n",
              "  </thead>\n",
              "  <tbody>\n",
              "    <tr>\n",
              "      <th>price</th>\n",
              "      <td>4600.0</td>\n",
              "      <td>551962.988473</td>\n",
              "      <td>563834.702547</td>\n",
              "      <td>0.0</td>\n",
              "      <td>322875.00</td>\n",
              "      <td>460943.461539</td>\n",
              "      <td>654962.50</td>\n",
              "      <td>26590000.0</td>\n",
              "    </tr>\n",
              "    <tr>\n",
              "      <th>bedrooms</th>\n",
              "      <td>4600.0</td>\n",
              "      <td>3.400870</td>\n",
              "      <td>0.908848</td>\n",
              "      <td>0.0</td>\n",
              "      <td>3.00</td>\n",
              "      <td>3.000000</td>\n",
              "      <td>4.00</td>\n",
              "      <td>9.0</td>\n",
              "    </tr>\n",
              "    <tr>\n",
              "      <th>bathrooms</th>\n",
              "      <td>4600.0</td>\n",
              "      <td>2.160815</td>\n",
              "      <td>0.783781</td>\n",
              "      <td>0.0</td>\n",
              "      <td>1.75</td>\n",
              "      <td>2.250000</td>\n",
              "      <td>2.50</td>\n",
              "      <td>8.0</td>\n",
              "    </tr>\n",
              "    <tr>\n",
              "      <th>sqft_living</th>\n",
              "      <td>4600.0</td>\n",
              "      <td>2139.346957</td>\n",
              "      <td>963.206916</td>\n",
              "      <td>370.0</td>\n",
              "      <td>1460.00</td>\n",
              "      <td>1980.000000</td>\n",
              "      <td>2620.00</td>\n",
              "      <td>13540.0</td>\n",
              "    </tr>\n",
              "    <tr>\n",
              "      <th>sqft_lot</th>\n",
              "      <td>4600.0</td>\n",
              "      <td>14852.516087</td>\n",
              "      <td>35884.436145</td>\n",
              "      <td>638.0</td>\n",
              "      <td>5000.75</td>\n",
              "      <td>7683.000000</td>\n",
              "      <td>11001.25</td>\n",
              "      <td>1074218.0</td>\n",
              "    </tr>\n",
              "    <tr>\n",
              "      <th>floors</th>\n",
              "      <td>4600.0</td>\n",
              "      <td>1.512065</td>\n",
              "      <td>0.538288</td>\n",
              "      <td>1.0</td>\n",
              "      <td>1.00</td>\n",
              "      <td>1.500000</td>\n",
              "      <td>2.00</td>\n",
              "      <td>3.5</td>\n",
              "    </tr>\n",
              "    <tr>\n",
              "      <th>waterfront</th>\n",
              "      <td>4600.0</td>\n",
              "      <td>0.007174</td>\n",
              "      <td>0.084404</td>\n",
              "      <td>0.0</td>\n",
              "      <td>0.00</td>\n",
              "      <td>0.000000</td>\n",
              "      <td>0.00</td>\n",
              "      <td>1.0</td>\n",
              "    </tr>\n",
              "    <tr>\n",
              "      <th>view</th>\n",
              "      <td>4600.0</td>\n",
              "      <td>0.240652</td>\n",
              "      <td>0.778405</td>\n",
              "      <td>0.0</td>\n",
              "      <td>0.00</td>\n",
              "      <td>0.000000</td>\n",
              "      <td>0.00</td>\n",
              "      <td>4.0</td>\n",
              "    </tr>\n",
              "    <tr>\n",
              "      <th>condition</th>\n",
              "      <td>4600.0</td>\n",
              "      <td>3.451739</td>\n",
              "      <td>0.677230</td>\n",
              "      <td>1.0</td>\n",
              "      <td>3.00</td>\n",
              "      <td>3.000000</td>\n",
              "      <td>4.00</td>\n",
              "      <td>5.0</td>\n",
              "    </tr>\n",
              "    <tr>\n",
              "      <th>sqft_above</th>\n",
              "      <td>4600.0</td>\n",
              "      <td>1827.265435</td>\n",
              "      <td>862.168977</td>\n",
              "      <td>370.0</td>\n",
              "      <td>1190.00</td>\n",
              "      <td>1590.000000</td>\n",
              "      <td>2300.00</td>\n",
              "      <td>9410.0</td>\n",
              "    </tr>\n",
              "    <tr>\n",
              "      <th>sqft_basement</th>\n",
              "      <td>4600.0</td>\n",
              "      <td>312.081522</td>\n",
              "      <td>464.137228</td>\n",
              "      <td>0.0</td>\n",
              "      <td>0.00</td>\n",
              "      <td>0.000000</td>\n",
              "      <td>610.00</td>\n",
              "      <td>4820.0</td>\n",
              "    </tr>\n",
              "    <tr>\n",
              "      <th>yr_built</th>\n",
              "      <td>4600.0</td>\n",
              "      <td>1970.786304</td>\n",
              "      <td>29.731848</td>\n",
              "      <td>1900.0</td>\n",
              "      <td>1951.00</td>\n",
              "      <td>1976.000000</td>\n",
              "      <td>1997.00</td>\n",
              "      <td>2014.0</td>\n",
              "    </tr>\n",
              "    <tr>\n",
              "      <th>yr_renovated</th>\n",
              "      <td>4600.0</td>\n",
              "      <td>808.608261</td>\n",
              "      <td>979.414536</td>\n",
              "      <td>0.0</td>\n",
              "      <td>0.00</td>\n",
              "      <td>0.000000</td>\n",
              "      <td>1999.00</td>\n",
              "      <td>2014.0</td>\n",
              "    </tr>\n",
              "  </tbody>\n",
              "</table>\n",
              "</div>\n",
              "    <div class=\"colab-df-buttons\">\n",
              "\n",
              "  <div class=\"colab-df-container\">\n",
              "    <button class=\"colab-df-convert\" onclick=\"convertToInteractive('df-1c4320af-c780-4275-8a74-1f2d05ee11fd')\"\n",
              "            title=\"Convert this dataframe to an interactive table.\"\n",
              "            style=\"display:none;\">\n",
              "\n",
              "  <svg xmlns=\"http://www.w3.org/2000/svg\" height=\"24px\" viewBox=\"0 -960 960 960\">\n",
              "    <path d=\"M120-120v-720h720v720H120Zm60-500h600v-160H180v160Zm220 220h160v-160H400v160Zm0 220h160v-160H400v160ZM180-400h160v-160H180v160Zm440 0h160v-160H620v160ZM180-180h160v-160H180v160Zm440 0h160v-160H620v160Z\"/>\n",
              "  </svg>\n",
              "    </button>\n",
              "\n",
              "  <style>\n",
              "    .colab-df-container {\n",
              "      display:flex;\n",
              "      gap: 12px;\n",
              "    }\n",
              "\n",
              "    .colab-df-convert {\n",
              "      background-color: #E8F0FE;\n",
              "      border: none;\n",
              "      border-radius: 50%;\n",
              "      cursor: pointer;\n",
              "      display: none;\n",
              "      fill: #1967D2;\n",
              "      height: 32px;\n",
              "      padding: 0 0 0 0;\n",
              "      width: 32px;\n",
              "    }\n",
              "\n",
              "    .colab-df-convert:hover {\n",
              "      background-color: #E2EBFA;\n",
              "      box-shadow: 0px 1px 2px rgba(60, 64, 67, 0.3), 0px 1px 3px 1px rgba(60, 64, 67, 0.15);\n",
              "      fill: #174EA6;\n",
              "    }\n",
              "\n",
              "    .colab-df-buttons div {\n",
              "      margin-bottom: 4px;\n",
              "    }\n",
              "\n",
              "    [theme=dark] .colab-df-convert {\n",
              "      background-color: #3B4455;\n",
              "      fill: #D2E3FC;\n",
              "    }\n",
              "\n",
              "    [theme=dark] .colab-df-convert:hover {\n",
              "      background-color: #434B5C;\n",
              "      box-shadow: 0px 1px 3px 1px rgba(0, 0, 0, 0.15);\n",
              "      filter: drop-shadow(0px 1px 2px rgba(0, 0, 0, 0.3));\n",
              "      fill: #FFFFFF;\n",
              "    }\n",
              "  </style>\n",
              "\n",
              "    <script>\n",
              "      const buttonEl =\n",
              "        document.querySelector('#df-1c4320af-c780-4275-8a74-1f2d05ee11fd button.colab-df-convert');\n",
              "      buttonEl.style.display =\n",
              "        google.colab.kernel.accessAllowed ? 'block' : 'none';\n",
              "\n",
              "      async function convertToInteractive(key) {\n",
              "        const element = document.querySelector('#df-1c4320af-c780-4275-8a74-1f2d05ee11fd');\n",
              "        const dataTable =\n",
              "          await google.colab.kernel.invokeFunction('convertToInteractive',\n",
              "                                                    [key], {});\n",
              "        if (!dataTable) return;\n",
              "\n",
              "        const docLinkHtml = 'Like what you see? Visit the ' +\n",
              "          '<a target=\"_blank\" href=https://colab.research.google.com/notebooks/data_table.ipynb>data table notebook</a>'\n",
              "          + ' to learn more about interactive tables.';\n",
              "        element.innerHTML = '';\n",
              "        dataTable['output_type'] = 'display_data';\n",
              "        await google.colab.output.renderOutput(dataTable, element);\n",
              "        const docLink = document.createElement('div');\n",
              "        docLink.innerHTML = docLinkHtml;\n",
              "        element.appendChild(docLink);\n",
              "      }\n",
              "    </script>\n",
              "  </div>\n",
              "\n",
              "\n",
              "<div id=\"df-1671f3a1-eab9-448f-aa06-80023f06f323\">\n",
              "  <button class=\"colab-df-quickchart\" onclick=\"quickchart('df-1671f3a1-eab9-448f-aa06-80023f06f323')\"\n",
              "            title=\"Suggest charts\"\n",
              "            style=\"display:none;\">\n",
              "\n",
              "<svg xmlns=\"http://www.w3.org/2000/svg\" height=\"24px\"viewBox=\"0 0 24 24\"\n",
              "     width=\"24px\">\n",
              "    <g>\n",
              "        <path d=\"M19 3H5c-1.1 0-2 .9-2 2v14c0 1.1.9 2 2 2h14c1.1 0 2-.9 2-2V5c0-1.1-.9-2-2-2zM9 17H7v-7h2v7zm4 0h-2V7h2v10zm4 0h-2v-4h2v4z\"/>\n",
              "    </g>\n",
              "</svg>\n",
              "  </button>\n",
              "\n",
              "<style>\n",
              "  .colab-df-quickchart {\n",
              "      --bg-color: #E8F0FE;\n",
              "      --fill-color: #1967D2;\n",
              "      --hover-bg-color: #E2EBFA;\n",
              "      --hover-fill-color: #174EA6;\n",
              "      --disabled-fill-color: #AAA;\n",
              "      --disabled-bg-color: #DDD;\n",
              "  }\n",
              "\n",
              "  [theme=dark] .colab-df-quickchart {\n",
              "      --bg-color: #3B4455;\n",
              "      --fill-color: #D2E3FC;\n",
              "      --hover-bg-color: #434B5C;\n",
              "      --hover-fill-color: #FFFFFF;\n",
              "      --disabled-bg-color: #3B4455;\n",
              "      --disabled-fill-color: #666;\n",
              "  }\n",
              "\n",
              "  .colab-df-quickchart {\n",
              "    background-color: var(--bg-color);\n",
              "    border: none;\n",
              "    border-radius: 50%;\n",
              "    cursor: pointer;\n",
              "    display: none;\n",
              "    fill: var(--fill-color);\n",
              "    height: 32px;\n",
              "    padding: 0;\n",
              "    width: 32px;\n",
              "  }\n",
              "\n",
              "  .colab-df-quickchart:hover {\n",
              "    background-color: var(--hover-bg-color);\n",
              "    box-shadow: 0 1px 2px rgba(60, 64, 67, 0.3), 0 1px 3px 1px rgba(60, 64, 67, 0.15);\n",
              "    fill: var(--button-hover-fill-color);\n",
              "  }\n",
              "\n",
              "  .colab-df-quickchart-complete:disabled,\n",
              "  .colab-df-quickchart-complete:disabled:hover {\n",
              "    background-color: var(--disabled-bg-color);\n",
              "    fill: var(--disabled-fill-color);\n",
              "    box-shadow: none;\n",
              "  }\n",
              "\n",
              "  .colab-df-spinner {\n",
              "    border: 2px solid var(--fill-color);\n",
              "    border-color: transparent;\n",
              "    border-bottom-color: var(--fill-color);\n",
              "    animation:\n",
              "      spin 1s steps(1) infinite;\n",
              "  }\n",
              "\n",
              "  @keyframes spin {\n",
              "    0% {\n",
              "      border-color: transparent;\n",
              "      border-bottom-color: var(--fill-color);\n",
              "      border-left-color: var(--fill-color);\n",
              "    }\n",
              "    20% {\n",
              "      border-color: transparent;\n",
              "      border-left-color: var(--fill-color);\n",
              "      border-top-color: var(--fill-color);\n",
              "    }\n",
              "    30% {\n",
              "      border-color: transparent;\n",
              "      border-left-color: var(--fill-color);\n",
              "      border-top-color: var(--fill-color);\n",
              "      border-right-color: var(--fill-color);\n",
              "    }\n",
              "    40% {\n",
              "      border-color: transparent;\n",
              "      border-right-color: var(--fill-color);\n",
              "      border-top-color: var(--fill-color);\n",
              "    }\n",
              "    60% {\n",
              "      border-color: transparent;\n",
              "      border-right-color: var(--fill-color);\n",
              "    }\n",
              "    80% {\n",
              "      border-color: transparent;\n",
              "      border-right-color: var(--fill-color);\n",
              "      border-bottom-color: var(--fill-color);\n",
              "    }\n",
              "    90% {\n",
              "      border-color: transparent;\n",
              "      border-bottom-color: var(--fill-color);\n",
              "    }\n",
              "  }\n",
              "</style>\n",
              "\n",
              "  <script>\n",
              "    async function quickchart(key) {\n",
              "      const quickchartButtonEl =\n",
              "        document.querySelector('#' + key + ' button');\n",
              "      quickchartButtonEl.disabled = true;  // To prevent multiple clicks.\n",
              "      quickchartButtonEl.classList.add('colab-df-spinner');\n",
              "      try {\n",
              "        const charts = await google.colab.kernel.invokeFunction(\n",
              "            'suggestCharts', [key], {});\n",
              "      } catch (error) {\n",
              "        console.error('Error during call to suggestCharts:', error);\n",
              "      }\n",
              "      quickchartButtonEl.classList.remove('colab-df-spinner');\n",
              "      quickchartButtonEl.classList.add('colab-df-quickchart-complete');\n",
              "    }\n",
              "    (() => {\n",
              "      let quickchartButtonEl =\n",
              "        document.querySelector('#df-1671f3a1-eab9-448f-aa06-80023f06f323 button');\n",
              "      quickchartButtonEl.style.display =\n",
              "        google.colab.kernel.accessAllowed ? 'block' : 'none';\n",
              "    })();\n",
              "  </script>\n",
              "</div>\n",
              "\n",
              "    </div>\n",
              "  </div>\n"
            ],
            "application/vnd.google.colaboratory.intrinsic+json": {
              "type": "dataframe",
              "summary": "{\n  \"name\": \"data\",\n  \"rows\": 13,\n  \"fields\": [\n    {\n      \"column\": \"count\",\n      \"properties\": {\n        \"dtype\": \"number\",\n        \"std\": 0.0,\n        \"min\": 4600.0,\n        \"max\": 4600.0,\n        \"num_unique_values\": 1,\n        \"samples\": [\n          4600.0\n        ],\n        \"semantic_type\": \"\",\n        \"description\": \"\"\n      }\n    },\n    {\n      \"column\": \"mean\",\n      \"properties\": {\n        \"dtype\": \"number\",\n        \"std\": 152633.05438035497,\n        \"min\": 0.007173913043478261,\n        \"max\": 551962.9884732141,\n        \"num_unique_values\": 13,\n        \"samples\": [\n          1970.786304347826\n        ],\n        \"semantic_type\": \"\",\n        \"description\": \"\"\n      }\n    },\n    {\n      \"column\": \"std\",\n      \"properties\": {\n        \"dtype\": \"number\",\n        \"std\": 155785.1584590329,\n        \"min\": 0.0844037718947432,\n        \"max\": 563834.7025471414,\n        \"num_unique_values\": 13,\n        \"samples\": [\n          29.73184839009964\n        ],\n        \"semantic_type\": \"\",\n        \"description\": \"\"\n      }\n    },\n    {\n      \"column\": \"min\",\n      \"properties\": {\n        \"dtype\": \"number\",\n        \"std\": 537.2209949693863,\n        \"min\": 0.0,\n        \"max\": 1900.0,\n        \"num_unique_values\": 5,\n        \"samples\": [\n          370.0\n        ],\n        \"semantic_type\": \"\",\n        \"description\": \"\"\n      }\n    },\n    {\n      \"column\": \"25%\",\n      \"properties\": {\n        \"dtype\": \"number\",\n        \"std\": 89338.79431698202,\n        \"min\": 0.0,\n        \"max\": 322875.0,\n        \"num_unique_values\": 9,\n        \"samples\": [\n          1190.0\n        ],\n        \"semantic_type\": \"\",\n        \"description\": \"\"\n      }\n    },\n    {\n      \"column\": \"50%\",\n      \"properties\": {\n        \"dtype\": \"number\",\n        \"std\": 127554.62787719395,\n        \"min\": 0.0,\n        \"max\": 460943.46153850004,\n        \"num_unique_values\": 9,\n        \"samples\": [\n          1590.0\n        ],\n        \"semantic_type\": \"\",\n        \"description\": \"\"\n      }\n    },\n    {\n      \"column\": \"75%\",\n      \"properties\": {\n        \"dtype\": \"number\",\n        \"std\": 181203.6518676295,\n        \"min\": 0.0,\n        \"max\": 654962.5,\n        \"num_unique_values\": 11,\n        \"samples\": [\n          2.0\n        ],\n        \"semantic_type\": \"\",\n        \"description\": \"\"\n      }\n    },\n    {\n      \"column\": \"max\",\n      \"properties\": {\n        \"dtype\": \"number\",\n        \"std\": 7355139.283940035,\n        \"min\": 1.0,\n        \"max\": 26590000.0,\n        \"num_unique_values\": 12,\n        \"samples\": [\n          4820.0\n        ],\n        \"semantic_type\": \"\",\n        \"description\": \"\"\n      }\n    }\n  ]\n}"
            }
          },
          "metadata": {},
          "execution_count": 5
        }
      ],
      "source": [
        "data.describe().T"
      ]
    },
    {
      "cell_type": "code",
      "execution_count": null,
      "metadata": {
        "colab": {
          "base_uri": "https://localhost:8080/",
          "height": 649
        },
        "id": "PySHKvhBXqB1",
        "outputId": "f1e7d187-98f1-48a0-f887-57850f504478"
      },
      "outputs": [
        {
          "output_type": "execute_result",
          "data": {
            "text/plain": [
              "date             0\n",
              "price            0\n",
              "bedrooms         0\n",
              "bathrooms        0\n",
              "sqft_living      0\n",
              "sqft_lot         0\n",
              "floors           0\n",
              "waterfront       0\n",
              "view             0\n",
              "condition        0\n",
              "sqft_above       0\n",
              "sqft_basement    0\n",
              "yr_built         0\n",
              "yr_renovated     0\n",
              "street           0\n",
              "city             0\n",
              "statezip         0\n",
              "country          0\n",
              "dtype: int64"
            ],
            "text/html": [
              "<div>\n",
              "<style scoped>\n",
              "    .dataframe tbody tr th:only-of-type {\n",
              "        vertical-align: middle;\n",
              "    }\n",
              "\n",
              "    .dataframe tbody tr th {\n",
              "        vertical-align: top;\n",
              "    }\n",
              "\n",
              "    .dataframe thead th {\n",
              "        text-align: right;\n",
              "    }\n",
              "</style>\n",
              "<table border=\"1\" class=\"dataframe\">\n",
              "  <thead>\n",
              "    <tr style=\"text-align: right;\">\n",
              "      <th></th>\n",
              "      <th>0</th>\n",
              "    </tr>\n",
              "  </thead>\n",
              "  <tbody>\n",
              "    <tr>\n",
              "      <th>date</th>\n",
              "      <td>0</td>\n",
              "    </tr>\n",
              "    <tr>\n",
              "      <th>price</th>\n",
              "      <td>0</td>\n",
              "    </tr>\n",
              "    <tr>\n",
              "      <th>bedrooms</th>\n",
              "      <td>0</td>\n",
              "    </tr>\n",
              "    <tr>\n",
              "      <th>bathrooms</th>\n",
              "      <td>0</td>\n",
              "    </tr>\n",
              "    <tr>\n",
              "      <th>sqft_living</th>\n",
              "      <td>0</td>\n",
              "    </tr>\n",
              "    <tr>\n",
              "      <th>sqft_lot</th>\n",
              "      <td>0</td>\n",
              "    </tr>\n",
              "    <tr>\n",
              "      <th>floors</th>\n",
              "      <td>0</td>\n",
              "    </tr>\n",
              "    <tr>\n",
              "      <th>waterfront</th>\n",
              "      <td>0</td>\n",
              "    </tr>\n",
              "    <tr>\n",
              "      <th>view</th>\n",
              "      <td>0</td>\n",
              "    </tr>\n",
              "    <tr>\n",
              "      <th>condition</th>\n",
              "      <td>0</td>\n",
              "    </tr>\n",
              "    <tr>\n",
              "      <th>sqft_above</th>\n",
              "      <td>0</td>\n",
              "    </tr>\n",
              "    <tr>\n",
              "      <th>sqft_basement</th>\n",
              "      <td>0</td>\n",
              "    </tr>\n",
              "    <tr>\n",
              "      <th>yr_built</th>\n",
              "      <td>0</td>\n",
              "    </tr>\n",
              "    <tr>\n",
              "      <th>yr_renovated</th>\n",
              "      <td>0</td>\n",
              "    </tr>\n",
              "    <tr>\n",
              "      <th>street</th>\n",
              "      <td>0</td>\n",
              "    </tr>\n",
              "    <tr>\n",
              "      <th>city</th>\n",
              "      <td>0</td>\n",
              "    </tr>\n",
              "    <tr>\n",
              "      <th>statezip</th>\n",
              "      <td>0</td>\n",
              "    </tr>\n",
              "    <tr>\n",
              "      <th>country</th>\n",
              "      <td>0</td>\n",
              "    </tr>\n",
              "  </tbody>\n",
              "</table>\n",
              "</div><br><label><b>dtype:</b> int64</label>"
            ]
          },
          "metadata": {},
          "execution_count": 6
        }
      ],
      "source": [
        "data.isnull().sum()"
      ]
    },
    {
      "cell_type": "markdown",
      "metadata": {
        "id": "a-PDh-KUrcCW"
      },
      "source": [
        "# **Data Visualisation**"
      ]
    },
    {
      "cell_type": "code",
      "execution_count": null,
      "metadata": {
        "colab": {
          "base_uri": "https://localhost:8080/",
          "height": 548
        },
        "id": "Y-ruEXi5qFyz",
        "outputId": "51fdde3f-85c7-4c0c-be41-40055163e85e"
      },
      "outputs": [
        {
          "output_type": "display_data",
          "data": {
            "text/plain": [
              "<Figure size 1000x520 with 1 Axes>"
            ],
            "image/png": "[encoded data removed]"
          },
          "metadata": {}
        }
      ],
      "source": [
        "# @title date vs price\n",
        "\n",
        "from matplotlib import pyplot as plt\n",
        "import seaborn as sns\n",
        "def _plot_series(series, series_name, series_index=0):\n",
        "  palette = list(sns.palettes.mpl_palette('Dark2'))\n",
        "  xs = series['date']\n",
        "  ys = series['price']\n",
        "\n",
        "  plt.plot(xs, ys, label=series_name, color=palette[series_index % len(palette)])\n",
        "\n",
        "fig, ax = plt.subplots(figsize=(10, 5.2), layout='constrained')\n",
        "df_sorted = data.sort_values('date', ascending=True)\n",
        "_plot_series(df_sorted, '')\n",
        "sns.despine(fig=fig, ax=ax)\n",
        "plt.xlabel('date')\n",
        "_ = plt.ylabel('price')"
      ]
    },
    {
      "cell_type": "code",
      "execution_count": null,
      "metadata": {
        "colab": {
          "base_uri": "https://localhost:8080/",
          "height": 449
        },
        "id": "4M4zKUXnp4zA",
        "outputId": "04bdfc57-4c8a-43b5-e962-8138786732a7"
      },
      "outputs": [
        {
          "output_type": "display_data",
          "data": {
            "text/plain": [
              "<Figure size 640x480 with 1 Axes>"
            ],
            "image/png": "[encoded data removed]"
          },
          "metadata": {}
        }
      ],
      "source": [
        "# @title price vs bedrooms\n",
        "\n",
        "from matplotlib import pyplot as plt\n",
        "data.plot(kind='scatter', x='price', y='bedrooms', s=32, alpha=.8)\n",
        "plt.gca().spines[['top', 'right',]].set_visible(False)"
      ]
    },
    {
      "cell_type": "code",
      "execution_count": null,
      "metadata": {
        "id": "JYEGb-9lq8Fg"
      },
      "outputs": [],
      "source": [
        "X = data.drop('price', axis=1)\n",
        "y = data['price']"
      ]
    },
    {
      "cell_type": "code",
      "execution_count": null,
      "metadata": {
        "id": "7irWFDN32Tp8"
      },
      "outputs": [],
      "source": [
        "if 'price' not in data.columns:\n",
        "    raise ValueError(\"The 'price' column is missing from the dataset.\")"
      ]
    },
    {
      "cell_type": "code",
      "execution_count": null,
      "metadata": {
        "id": "0fNRZ0ztq-ZQ"
      },
      "outputs": [],
      "source": [
        "X['date'] = pd.to_datetime(X['date'])\n",
        "X['year'] = X['date'].dt.year\n",
        "X['month'] = X['date'].dt.month\n",
        "X['day_of_week'] = X['date'].dt.dayofweek\n",
        "X['is_weekend'] = X['day_of_week'].isin([5, 6]).astype(int)\n"
      ]
    },
    {
      "cell_type": "code",
      "execution_count": null,
      "metadata": {
        "id": "YV5Gp85r41pG"
      },
      "outputs": [],
      "source": [
        "X_train, X_test, y_train, y_test = train_test_split(X, y, test_size=0.3, random_state=0)"
      ]
    },
    {
      "cell_type": "code",
      "execution_count": null,
      "metadata": {
        "colab": {
          "base_uri": "https://localhost:8080/"
        },
        "id": "Ec_Nlw0Y4J9D",
        "outputId": "51e7fb47-aa3e-4a25-fc94-c63726cfb7d2"
      },
      "outputs": [
        {
          "output_type": "stream",
          "name": "stdout",
          "text": [
            "Columns in X_train: Index(['date', 'bedrooms', 'bathrooms', 'sqft_living', 'sqft_lot', 'floors',\n",
            "       'waterfront', 'view', 'condition', 'sqft_above', 'sqft_basement',\n",
            "       'yr_built', 'yr_renovated', 'street', 'city', 'statezip', 'country',\n",
            "       'year', 'month', 'day_of_week', 'is_weekend'],\n",
            "      dtype='object')\n",
            "Columns in X_test: Index(['date', 'bedrooms', 'bathrooms', 'sqft_living', 'sqft_lot', 'floors',\n",
            "       'waterfront', 'view', 'condition', 'sqft_above', 'sqft_basement',\n",
            "       'yr_built', 'yr_renovated', 'street', 'city', 'statezip', 'country',\n",
            "       'year', 'month', 'day_of_week', 'is_weekend'],\n",
            "      dtype='object')\n"
          ]
        }
      ],
      "source": [
        "print(\"Columns in X_train:\", X_train.columns)\n",
        "print(\"Columns in X_test:\", X_test.columns)"
      ]
    },
    {
      "cell_type": "code",
      "execution_count": null,
      "metadata": {
        "colab": {
          "base_uri": "https://localhost:8080/"
        },
        "id": "DWc-SLQJrv5s",
        "outputId": "71be56e9-1eea-4f0e-bfab-8f04917a720c"
      },
      "outputs": [
        {
          "output_type": "stream",
          "name": "stdout",
          "text": [
            "Collecting category_encoders\n",
            "  Downloading category_encoders-2.6.3-py2.py3-none-any.whl.metadata (8.0 kB)\n",
            "Requirement already satisfied: numpy>=1.14.0 in /usr/local/lib/python3.10/dist-packages (from category_encoders) (1.26.4)\n",
            "Requirement already satisfied: scikit-learn>=0.20.0 in /usr/local/lib/python3.10/dist-packages (from category_encoders) (1.3.2)\n",
            "Requirement already satisfied: scipy>=1.0.0 in /usr/local/lib/python3.10/dist-packages (from category_encoders) (1.13.1)\n",
            "Requirement already satisfied: statsmodels>=0.9.0 in /usr/local/lib/python3.10/dist-packages (from category_encoders) (0.14.2)\n",
            "Requirement already satisfied: pandas>=1.0.5 in /usr/local/lib/python3.10/dist-packages (from category_encoders) (2.1.4)\n",
            "Requirement already satisfied: patsy>=0.5.1 in /usr/local/lib/python3.10/dist-packages (from category_encoders) (0.5.6)\n",
            "Requirement already satisfied: python-dateutil>=2.8.2 in /usr/local/lib/python3.10/dist-packages (from pandas>=1.0.5->category_encoders) (2.8.2)\n",
            "Requirement already satisfied: pytz>=2020.1 in /usr/local/lib/python3.10/dist-packages (from pandas>=1.0.5->category_encoders) (2024.1)\n",
            "Requirement already satisfied: tzdata>=2022.1 in /usr/local/lib/python3.10/dist-packages (from pandas>=1.0.5->category_encoders) (2024.1)\n",
            "Requirement already satisfied: six in /usr/local/lib/python3.10/dist-packages (from patsy>=0.5.1->category_encoders) (1.16.0)\n",
            "Requirement already satisfied: joblib>=1.1.1 in /usr/local/lib/python3.10/dist-packages (from scikit-learn>=0.20.0->category_encoders) (1.4.2)\n",
            "Requirement already satisfied: threadpoolctl>=2.0.0 in /usr/local/lib/python3.10/dist-packages (from scikit-learn>=0.20.0->category_encoders) (3.5.0)\n",
            "Requirement already satisfied: packaging>=21.3 in /usr/local/lib/python3.10/dist-packages (from statsmodels>=0.9.0->category_encoders) (24.1)\n",
            "Downloading category_encoders-2.6.3-py2.py3-none-any.whl (81 kB)\n",
            "\u001b[2K   \u001b[90m━━━━━━━━━━━━━━━━━━━━━━━━━━━━━━━━━━━━━━━━\u001b[0m \u001b[32m81.9/81.9 kB\u001b[0m \u001b[31m4.3 MB/s\u001b[0m eta \u001b[36m0:00:00\u001b[0m\n",
            "\u001b[?25hInstalling collected packages: category_encoders\n",
            "Successfully installed category_encoders-2.6.3\n"
          ]
        }
      ],
      "source": [
        "!pip install category_encoders # Install the missing library\n",
        "import category_encoders as ce\n",
        "\n",
        "encoder = ce.TargetEncoder(cols=['street', 'city', 'statezip', 'country'])\n",
        "X_train = encoder.fit_transform(X_train, y_train)\n",
        "X_test = encoder.transform(X_test)"
      ]
    },
    {
      "cell_type": "markdown",
      "metadata": {
        "id": "b2RWMnwRXBUE"
      },
      "source": [
        "# **Experimenting with pipelines**"
      ]
    },
    {
      "cell_type": "code",
      "execution_count": null,
      "metadata": {
        "colab": {
          "base_uri": "https://localhost:8080/"
        },
        "id": "8mvd7aUP6FJ7",
        "outputId": "d09c8368-c1e7-4701-b48a-ee31c45826cf"
      },
      "outputs": [
        {
          "output_type": "stream",
          "name": "stdout",
          "text": [
            "\n",
            "Training Gradient Boosting Regressor...\n",
            "Gradient Boosting Regressor Metrics:\n",
            "Mean Squared Error (MSE): 967153734621.6338\n",
            "Mean Absolute Error (MAE): 163097.4577030901\n",
            "R² Score: 0.051667200630271526\n",
            "\n",
            "Training Random Forest Regressor...\n",
            "Random Forest Regressor Metrics:\n",
            "Mean Squared Error (MSE): 970849839971.7784\n",
            "Mean Absolute Error (MAE): 155838.60585074595\n",
            "R² Score: 0.04804302196250332\n",
            "\n",
            "Training Linear Regression...\n",
            "Linear Regression Metrics:\n",
            "Mean Squared Error (MSE): 4583385371249.853\n",
            "Mean Absolute Error (MAE): 918842.9175715717\n",
            "R² Score: -3.494192106292269\n",
            "\n",
            "Training Decision Tree Regressor...\n",
            "Decision Tree Regressor Metrics:\n",
            "Mean Squared Error (MSE): 998654381840.7173\n",
            "Mean Absolute Error (MAE): 188260.1328879804\n",
            "R² Score: 0.020779560031004785\n"
          ]
        }
      ],
      "source": [
        "from sklearn.pipeline import Pipeline\n",
        "from sklearn.preprocessing import StandardScaler, OneHotEncoder\n",
        "from sklearn.compose import ColumnTransformer\n",
        "from sklearn.ensemble import GradientBoostingRegressor, RandomForestRegressor\n",
        "from sklearn.linear_model import LinearRegression\n",
        "from sklearn.tree import DecisionTreeRegressor\n",
        "from sklearn.model_selection import train_test_split\n",
        "from sklearn.metrics import mean_squared_error, mean_absolute_error, r2_score\n",
        "\n",
        "# Define preprocessing steps\n",
        "categorical_features = ['street', 'city', 'statezip', 'country']\n",
        "numeric_features = ['bedrooms', 'bathrooms', 'sqft_living', 'sqft_lot', 'floors', 'waterfront', 'view', 'condition', 'sqft_above', 'sqft_basement', 'yr_built', 'yr_renovated']\n",
        "\n",
        "preprocessor = ColumnTransformer(\n",
        "    transformers=[\n",
        "        ('num', StandardScaler(), numeric_features),\n",
        "        ('cat', OneHotEncoder(handle_unknown='ignore'), categorical_features)\n",
        "    ])\n",
        "\n",
        "# Split the data into training and test sets\n",
        "X_train, X_test, y_train, y_test = train_test_split(X, y, test_size=0.2, random_state=42)\n",
        "\n",
        "# Define models\n",
        "models = {\n",
        "    'Gradient Boosting Regressor': GradientBoostingRegressor(),\n",
        "    'Random Forest Regressor': RandomForestRegressor(),\n",
        "    'Linear Regression': LinearRegression(),\n",
        "    'Decision Tree Regressor': DecisionTreeRegressor()\n",
        "}\n",
        "\n",
        "# Iterate over models, create a pipeline, fit, and evaluate each model\n",
        "for model_name, model in models.items():\n",
        "    print(f\"\\nTraining {model_name}...\")\n",
        "\n",
        "    # Create the pipeline\n",
        "    pipeline = Pipeline(steps=[\n",
        "        ('preprocessor', preprocessor),\n",
        "        ('regressor', model)\n",
        "    ])\n",
        "\n",
        "    # Train the model\n",
        "    pipeline.fit(X_train, y_train)\n",
        "\n",
        "    # Predict on the test set\n",
        "    y_pred = pipeline.predict(X_test)\n",
        "\n",
        "    # Evaluate the model\n",
        "    mse = mean_squared_error(y_test, y_pred)\n",
        "    mae = mean_absolute_error(y_test, y_pred)\n",
        "    r2 = r2_score(y_test, y_pred)\n",
        "\n",
        "    # Print the evaluation metrics\n",
        "    print(f\"{model_name} Metrics:\")\n",
        "    print(f\"Mean Squared Error (MSE): {mse}\")\n",
        "    print(f\"Mean Absolute Error (MAE): {mae}\")\n",
        "    print(f\"R² Score: {r2}\")\n"
      ]
    },
    {
      "cell_type": "code",
      "execution_count": null,
      "metadata": {
        "id": "VSQg_35Msod1"
      },
      "outputs": [],
      "source": [
        "from sklearn.pipeline import Pipeline\n",
        "from sklearn.preprocessing import StandardScaler, OneHotEncoder # Import OneHotEncoder\n",
        "from sklearn.compose import ColumnTransformer\n",
        "from sklearn.ensemble import GradientBoostingRegressor\n",
        "from sklearn.model_selection import train_test_split\n",
        "\n",
        "# Define preprocessing steps\n",
        "categorical_features = ['street', 'city', 'statezip', 'country']\n",
        "numeric_features = ['bedrooms','bathrooms','sqft_living','sqft_lot','floors','waterfront','view','condition','sqft_above','sqft_basement','yr_built','yr_renovated']\n",
        "\n",
        "preprocessor = ColumnTransformer(\n",
        "    transformers=[\n",
        "        ('num', StandardScaler(), numeric_features),\n",
        "        ('cat', OneHotEncoder(handle_unknown='ignore'), categorical_features)\n",
        "    ])\n",
        "\n",
        "# Define the pipeline\n",
        "model = Pipeline(steps=[\n",
        "    ('preprocessor', preprocessor),\n",
        "    ('regressor', GradientBoostingRegressor())\n",
        "])\n",
        "\n",
        "X_train, X_test, y_train, y_test = train_test_split(X, y, test_size=0.2, random_state=42)\n",
        "\n",
        "model.fit(X_train, y_train)\n",
        "\n",
        "y_pred = model.predict(X_test)"
      ]
    },
    {
      "cell_type": "markdown",
      "metadata": {
        "id": "lEXWHXUpZ8ZG"
      },
      "source": [
        "The **dataset** that we used is **heterogeneous** because we have features that are not numerical such as \"date\", \"street\", \"city\", \"statezip\" and \"country\". And this require specific techniques tailored to each data type."
      ]
    },
    {
      "cell_type": "markdown",
      "metadata": {
        "id": "R7Yvz7y4Wu0Q"
      },
      "source": [
        "# **Preprocessing**"
      ]
    },
    {
      "cell_type": "code",
      "execution_count": null,
      "metadata": {
        "id": "KslRH_Lx0eUT"
      },
      "outputs": [],
      "source": [
        "X = data.drop('price', axis=1)\n",
        "y = data['price']"
      ]
    },
    {
      "cell_type": "code",
      "execution_count": null,
      "metadata": {
        "id": "fP5g53QuSIlb"
      },
      "outputs": [],
      "source": [
        "# Fixing the 'date' column\n",
        "X['date'] = pd.to_datetime(X['date'])  # Convert to datetime object\n",
        "X['date'] = (X['date'] - X['date'].min()).dt.days  # Convert to days since the earliest date\n"
      ]
    },
    {
      "cell_type": "code",
      "execution_count": null,
      "metadata": {
        "id": "twqaqAD5SnVj"
      },
      "outputs": [],
      "source": [
        "X_train, X_test, y_train, y_test = train_test_split(X, y, test_size=0.3, random_state=0)"
      ]
    },
    {
      "cell_type": "code",
      "execution_count": null,
      "metadata": {
        "id": "VHUVtMY_PDYI"
      },
      "outputs": [],
      "source": [
        "# Fixing the 'street' column\n",
        "X_train['street'] = X_train['street'].factorize()[0]\n",
        "X_test['street'] = X_test['street'].factorize()[0]"
      ]
    },
    {
      "cell_type": "code",
      "execution_count": null,
      "metadata": {
        "id": "NOzjz6C6RfGU"
      },
      "outputs": [],
      "source": [
        "# Fixing the 'city' column\n",
        "X_train['city'] = X_train['city'].factorize()[0]\n",
        "X_test['city'] = X_test['city'].factorize()[0]"
      ]
    },
    {
      "cell_type": "code",
      "execution_count": null,
      "metadata": {
        "id": "qrFqGEc9Rzle"
      },
      "outputs": [],
      "source": [
        "# Fixing the 'statezip' column\n",
        "X_train['statezip'] = X_train['statezip'].factorize()[0]\n",
        "X_test['statezip'] = X_test['statezip'].factorize()[0]"
      ]
    },
    {
      "cell_type": "code",
      "execution_count": null,
      "metadata": {
        "id": "IS8NKBQ_SF5j"
      },
      "outputs": [],
      "source": [
        "# Fixing the 'country' column\n",
        "X_train['country'] = X_train['country'].factorize()[0]\n",
        "X_test['country'] = X_test['country'].factorize()[0]"
      ]
    },
    {
      "cell_type": "markdown",
      "metadata": {
        "id": "iuT-2BOW0D-z"
      },
      "source": [
        "# **Linear Regression**"
      ]
    },
    {
      "cell_type": "code",
      "execution_count": null,
      "metadata": {
        "colab": {
          "base_uri": "https://localhost:8080/",
          "height": 75
        },
        "id": "InzmU6zcR4em",
        "outputId": "f2234207-b28c-4234-82b9-6fd1ed82355f"
      },
      "outputs": [
        {
          "output_type": "execute_result",
          "data": {
            "text/plain": [
              "LinearRegression()"
            ],
            "text/html": [
              "<style>#sk-container-id-1 {color: black;}#sk-container-id-1 pre{padding: 0;}#sk-container-id-1 div.sk-toggleable {background-color: white;}#sk-container-id-1 label.sk-toggleable__label {cursor: pointer;display: block;width: 100%;margin-bottom: 0;padding: 0.3em;box-sizing: border-box;text-align: center;}#sk-container-id-1 label.sk-toggleable__label-arrow:before {content: \"▸\";float: left;margin-right: 0.25em;color: #696969;}#sk-container-id-1 label.sk-toggleable__label-arrow:hover:before {color: black;}#sk-container-id-1 div.sk-estimator:hover label.sk-toggleable__label-arrow:before {color: black;}#sk-container-id-1 div.sk-toggleable__content {max-height: 0;max-width: 0;overflow: hidden;text-align: left;background-color: #f0f8ff;}#sk-container-id-1 div.sk-toggleable__content pre {margin: 0.2em;color: black;border-radius: 0.25em;background-color: #f0f8ff;}#sk-container-id-1 input.sk-toggleable__control:checked~div.sk-toggleable__content {max-height: 200px;max-width: 100%;overflow: auto;}#sk-container-id-1 input.sk-toggleable__control:checked~label.sk-toggleable__label-arrow:before {content: \"▾\";}#sk-container-id-1 div.sk-estimator input.sk-toggleable__control:checked~label.sk-toggleable__label {background-color: #d4ebff;}#sk-container-id-1 div.sk-label input.sk-toggleable__control:checked~label.sk-toggleable__label {background-color: #d4ebff;}#sk-container-id-1 input.sk-hidden--visually {border: 0;clip: rect(1px 1px 1px 1px);clip: rect(1px, 1px, 1px, 1px);height: 1px;margin: -1px;overflow: hidden;padding: 0;position: absolute;width: 1px;}#sk-container-id-1 div.sk-estimator {font-family: monospace;background-color: #f0f8ff;border: 1px dotted black;border-radius: 0.25em;box-sizing: border-box;margin-bottom: 0.5em;}#sk-container-id-1 div.sk-estimator:hover {background-color: #d4ebff;}#sk-container-id-1 div.sk-parallel-item::after {content: \"\";width: 100%;border-bottom: 1px solid gray;flex-grow: 1;}#sk-container-id-1 div.sk-label:hover label.sk-toggleable__label {background-color: #d4ebff;}#sk-container-id-1 div.sk-serial::before {content: \"\";position: absolute;border-left: 1px solid gray;box-sizing: border-box;top: 0;bottom: 0;left: 50%;z-index: 0;}#sk-container-id-1 div.sk-serial {display: flex;flex-direction: column;align-items: center;background-color: white;padding-right: 0.2em;padding-left: 0.2em;position: relative;}#sk-container-id-1 div.sk-item {position: relative;z-index: 1;}#sk-container-id-1 div.sk-parallel {display: flex;align-items: stretch;justify-content: center;background-color: white;position: relative;}#sk-container-id-1 div.sk-item::before, #sk-container-id-1 div.sk-parallel-item::before {content: \"\";position: absolute;border-left: 1px solid gray;box-sizing: border-box;top: 0;bottom: 0;left: 50%;z-index: -1;}#sk-container-id-1 div.sk-parallel-item {display: flex;flex-direction: column;z-index: 1;position: relative;background-color: white;}#sk-container-id-1 div.sk-parallel-item:first-child::after {align-self: flex-end;width: 50%;}#sk-container-id-1 div.sk-parallel-item:last-child::after {align-self: flex-start;width: 50%;}#sk-container-id-1 div.sk-parallel-item:only-child::after {width: 0;}#sk-container-id-1 div.sk-dashed-wrapped {border: 1px dashed gray;margin: 0 0.4em 0.5em 0.4em;box-sizing: border-box;padding-bottom: 0.4em;background-color: white;}#sk-container-id-1 div.sk-label label {font-family: monospace;font-weight: bold;display: inline-block;line-height: 1.2em;}#sk-container-id-1 div.sk-label-container {text-align: center;}#sk-container-id-1 div.sk-container {/* jupyter's `normalize.less` sets `[hidden] { display: none; }` but bootstrap.min.css set `[hidden] { display: none !important; }` so we also need the `!important` here to be able to override the default hidden behavior on the sphinx rendered scikit-learn.org. See: https://github.com/scikit-learn/scikit-learn/issues/21755 */display: inline-block !important;position: relative;}#sk-container-id-1 div.sk-text-repr-fallback {display: none;}</style><div id=\"sk-container-id-1\" class=\"sk-top-container\"><div class=\"sk-text-repr-fallback\"><pre>LinearRegression()</pre><b>In a Jupyter environment, please rerun this cell to show the HTML representation or trust the notebook. <br />On GitHub, the HTML representation is unable to render, please try loading this page with nbviewer.org.</b></div><div class=\"sk-container\" hidden><div class=\"sk-item\"><div class=\"sk-estimator sk-toggleable\"><input class=\"sk-toggleable__control sk-hidden--visually\" id=\"sk-estimator-id-1\" type=\"checkbox\" checked><label for=\"sk-estimator-id-1\" class=\"sk-toggleable__label sk-toggleable__label-arrow\">LinearRegression</label><div class=\"sk-toggleable__content\"><pre>LinearRegression()</pre></div></div></div></div></div>"
            ]
          },
          "metadata": {},
          "execution_count": 24
        }
      ],
      "source": [
        "from sklearn.linear_model import LinearRegression\n",
        "model = LinearRegression()\n",
        "model.fit(X_train,y_train)"
      ]
    },
    {
      "cell_type": "code",
      "execution_count": null,
      "metadata": {
        "id": "28QSTpHFTAZf"
      },
      "outputs": [],
      "source": [
        "y_pred = model.predict(X_test)"
      ]
    },
    {
      "cell_type": "code",
      "execution_count": null,
      "metadata": {
        "colab": {
          "base_uri": "https://localhost:8080/"
        },
        "id": "_0Vhua-7WfUD",
        "outputId": "b8a4d4f9-dcc7-4656-93ab-d597da935977"
      },
      "outputs": [
        {
          "output_type": "execute_result",
          "data": {
            "text/plain": [
              "3.0661574420124324e+19"
            ]
          },
          "metadata": {},
          "execution_count": 26
        }
      ],
      "source": [
        "mean_absolute_percentage_error(y_test,y_pred)"
      ]
    },
    {
      "cell_type": "code",
      "execution_count": null,
      "metadata": {
        "colab": {
          "base_uri": "https://localhost:8080/"
        },
        "id": "s6Pe3KZXWa-E",
        "outputId": "1978b6c1-1a77-43b5-aed4-d31b419ae607"
      },
      "outputs": [
        {
          "output_type": "execute_result",
          "data": {
            "text/plain": [
              "183076.91972954292"
            ]
          },
          "metadata": {},
          "execution_count": 27
        }
      ],
      "source": [
        "mean_absolute_error(y_test,y_pred)"
      ]
    },
    {
      "cell_type": "markdown",
      "source": [
        "Hyper-parameters Tuning"
      ],
      "metadata": {
        "id": "ZfV2gwkxLeqn"
      }
    },
    {
      "cell_type": "code",
      "source": [
        "from sklearn.model_selection import GridSearchCV, RandomizedSearchCV\n",
        "from sklearn.ensemble import RandomForestRegressor, GradientBoostingRegressor\n",
        "from sklearn.datasets import make_regression"
      ],
      "metadata": {
        "id": "glUlzkhXKLcB"
      },
      "execution_count": null,
      "outputs": []
    },
    {
      "cell_type": "code",
      "source": [
        "# Linear Regression\n",
        "lr = LinearRegression()\n",
        "param_grid_lr = {\n",
        "    'fit_intercept': [True, False],\n",
        "}\n",
        "\n",
        "grid_search_lr = GridSearchCV(estimator=lr, param_grid=param_grid_lr, cv=5, scoring='neg_mean_squared_error')\n",
        "grid_search_lr.fit(X_train, y_train)\n",
        "print(\"Best Parameters for Linear Regression:\", grid_search_lr.best_params_)"
      ],
      "metadata": {
        "colab": {
          "base_uri": "https://localhost:8080/"
        },
        "id": "Am5nlv1XKBxS",
        "outputId": "48077159-fc5c-4974-e140-32ec63cf073b"
      },
      "execution_count": null,
      "outputs": [
        {
          "output_type": "stream",
          "name": "stdout",
          "text": [
            "Best Parameters for Linear Regression: {'fit_intercept': True}\n"
          ]
        }
      ]
    },
    {
      "cell_type": "code",
      "source": [
        "lr.fit(X_train,y_train)\n",
        "y_pred = model.predict(X_test)"
      ],
      "metadata": {
        "id": "iyLgqSgeK48t"
      },
      "execution_count": null,
      "outputs": []
    },
    {
      "cell_type": "code",
      "source": [
        "mean_absolute_percentage_error(y_test,y_pred)"
      ],
      "metadata": {
        "colab": {
          "base_uri": "https://localhost:8080/"
        },
        "id": "_IHTggdjLEP0",
        "outputId": "fb1d396f-d967-4d3f-bdcb-257fd8e4603f"
      },
      "execution_count": null,
      "outputs": [
        {
          "output_type": "execute_result",
          "data": {
            "text/plain": [
              "3.0661574420124324e+19"
            ]
          },
          "metadata": {},
          "execution_count": 31
        }
      ]
    },
    {
      "cell_type": "markdown",
      "metadata": {
        "id": "rqFv6oKK0IcX"
      },
      "source": [
        "# **Random Forest Regression**"
      ]
    },
    {
      "cell_type": "code",
      "execution_count": null,
      "metadata": {
        "id": "3XAoEMKgYX3D"
      },
      "outputs": [],
      "source": [
        "from sklearn.ensemble import RandomForestRegressor"
      ]
    },
    {
      "cell_type": "code",
      "execution_count": null,
      "metadata": {
        "id": "_v91KAOcYHN8"
      },
      "outputs": [],
      "source": [
        "rf_regressor = RandomForestRegressor(n_estimators=100)"
      ]
    },
    {
      "cell_type": "code",
      "execution_count": null,
      "metadata": {
        "colab": {
          "base_uri": "https://localhost:8080/",
          "height": 75
        },
        "id": "ytfvyt02Yclq",
        "outputId": "8499da8f-1334-4dc9-9701-17f328e5ef4d"
      },
      "outputs": [
        {
          "output_type": "execute_result",
          "data": {
            "text/plain": [
              "RandomForestRegressor()"
            ],
            "text/html": [
              "<style>#sk-container-id-2 {color: black;}#sk-container-id-2 pre{padding: 0;}#sk-container-id-2 div.sk-toggleable {background-color: white;}#sk-container-id-2 label.sk-toggleable__label {cursor: pointer;display: block;width: 100%;margin-bottom: 0;padding: 0.3em;box-sizing: border-box;text-align: center;}#sk-container-id-2 label.sk-toggleable__label-arrow:before {content: \"▸\";float: left;margin-right: 0.25em;color: #696969;}#sk-container-id-2 label.sk-toggleable__label-arrow:hover:before {color: black;}#sk-container-id-2 div.sk-estimator:hover label.sk-toggleable__label-arrow:before {color: black;}#sk-container-id-2 div.sk-toggleable__content {max-height: 0;max-width: 0;overflow: hidden;text-align: left;background-color: #f0f8ff;}#sk-container-id-2 div.sk-toggleable__content pre {margin: 0.2em;color: black;border-radius: 0.25em;background-color: #f0f8ff;}#sk-container-id-2 input.sk-toggleable__control:checked~div.sk-toggleable__content {max-height: 200px;max-width: 100%;overflow: auto;}#sk-container-id-2 input.sk-toggleable__control:checked~label.sk-toggleable__label-arrow:before {content: \"▾\";}#sk-container-id-2 div.sk-estimator input.sk-toggleable__control:checked~label.sk-toggleable__label {background-color: #d4ebff;}#sk-container-id-2 div.sk-label input.sk-toggleable__control:checked~label.sk-toggleable__label {background-color: #d4ebff;}#sk-container-id-2 input.sk-hidden--visually {border: 0;clip: rect(1px 1px 1px 1px);clip: rect(1px, 1px, 1px, 1px);height: 1px;margin: -1px;overflow: hidden;padding: 0;position: absolute;width: 1px;}#sk-container-id-2 div.sk-estimator {font-family: monospace;background-color: #f0f8ff;border: 1px dotted black;border-radius: 0.25em;box-sizing: border-box;margin-bottom: 0.5em;}#sk-container-id-2 div.sk-estimator:hover {background-color: #d4ebff;}#sk-container-id-2 div.sk-parallel-item::after {content: \"\";width: 100%;border-bottom: 1px solid gray;flex-grow: 1;}#sk-container-id-2 div.sk-label:hover label.sk-toggleable__label {background-color: #d4ebff;}#sk-container-id-2 div.sk-serial::before {content: \"\";position: absolute;border-left: 1px solid gray;box-sizing: border-box;top: 0;bottom: 0;left: 50%;z-index: 0;}#sk-container-id-2 div.sk-serial {display: flex;flex-direction: column;align-items: center;background-color: white;padding-right: 0.2em;padding-left: 0.2em;position: relative;}#sk-container-id-2 div.sk-item {position: relative;z-index: 1;}#sk-container-id-2 div.sk-parallel {display: flex;align-items: stretch;justify-content: center;background-color: white;position: relative;}#sk-container-id-2 div.sk-item::before, #sk-container-id-2 div.sk-parallel-item::before {content: \"\";position: absolute;border-left: 1px solid gray;box-sizing: border-box;top: 0;bottom: 0;left: 50%;z-index: -1;}#sk-container-id-2 div.sk-parallel-item {display: flex;flex-direction: column;z-index: 1;position: relative;background-color: white;}#sk-container-id-2 div.sk-parallel-item:first-child::after {align-self: flex-end;width: 50%;}#sk-container-id-2 div.sk-parallel-item:last-child::after {align-self: flex-start;width: 50%;}#sk-container-id-2 div.sk-parallel-item:only-child::after {width: 0;}#sk-container-id-2 div.sk-dashed-wrapped {border: 1px dashed gray;margin: 0 0.4em 0.5em 0.4em;box-sizing: border-box;padding-bottom: 0.4em;background-color: white;}#sk-container-id-2 div.sk-label label {font-family: monospace;font-weight: bold;display: inline-block;line-height: 1.2em;}#sk-container-id-2 div.sk-label-container {text-align: center;}#sk-container-id-2 div.sk-container {/* jupyter's `normalize.less` sets `[hidden] { display: none; }` but bootstrap.min.css set `[hidden] { display: none !important; }` so we also need the `!important` here to be able to override the default hidden behavior on the sphinx rendered scikit-learn.org. See: https://github.com/scikit-learn/scikit-learn/issues/21755 */display: inline-block !important;position: relative;}#sk-container-id-2 div.sk-text-repr-fallback {display: none;}</style><div id=\"sk-container-id-2\" class=\"sk-top-container\"><div class=\"sk-text-repr-fallback\"><pre>RandomForestRegressor()</pre><b>In a Jupyter environment, please rerun this cell to show the HTML representation or trust the notebook. <br />On GitHub, the HTML representation is unable to render, please try loading this page with nbviewer.org.</b></div><div class=\"sk-container\" hidden><div class=\"sk-item\"><div class=\"sk-estimator sk-toggleable\"><input class=\"sk-toggleable__control sk-hidden--visually\" id=\"sk-estimator-id-2\" type=\"checkbox\" checked><label for=\"sk-estimator-id-2\" class=\"sk-toggleable__label sk-toggleable__label-arrow\">RandomForestRegressor</label><div class=\"sk-toggleable__content\"><pre>RandomForestRegressor()</pre></div></div></div></div></div>"
            ]
          },
          "metadata": {},
          "execution_count": 34
        }
      ],
      "source": [
        "rf_regressor.fit(X_train,y_train)"
      ]
    },
    {
      "cell_type": "code",
      "execution_count": null,
      "metadata": {
        "id": "dlyKW3D-YtQH"
      },
      "outputs": [],
      "source": [
        "y_pred = rf_regressor.predict(X_test)"
      ]
    },
    {
      "cell_type": "code",
      "execution_count": null,
      "metadata": {
        "colab": {
          "base_uri": "https://localhost:8080/"
        },
        "id": "PA3po4EBYzye",
        "outputId": "5b2c2146-68a6-4153-9206-d72ae7d54879"
      },
      "outputs": [
        {
          "output_type": "stream",
          "name": "stdout",
          "text": [
            "R squared error :  0.05896131306474384\n"
          ]
        }
      ],
      "source": [
        "# R squared error\n",
        "error_score = metrics.r2_score(y_test, y_pred)\n",
        "print(\"R squared error : \", error_score)"
      ]
    },
    {
      "cell_type": "markdown",
      "source": [
        "hyper-parameters tuning"
      ],
      "metadata": {
        "id": "4c4wOoerUlyh"
      }
    },
    {
      "cell_type": "code",
      "source": [
        "# Random Forest Regressor\n",
        "rf = RandomForestRegressor()\n",
        "param_grid_rf = {\n",
        "    'n_estimators': [100, 200],\n",
        "    'max_depth': [None, 10, 20],\n",
        "    'min_samples_split': [2, 5, 10],\n",
        "    'min_samples_leaf': [1, 2, 4],\n",
        "    'bootstrap': [True, False]\n",
        "}\n",
        "\n",
        "grid_search_rf = GridSearchCV(estimator=rf, param_grid=param_grid_rf, cv=5, scoring='neg_mean_squared_error', n_jobs=-1)\n",
        "grid_search_rf.fit(X_train, y_train)\n",
        "print(\"Best Parameters for Random Forest:\", grid_search_rf.best_params_)\n"
      ],
      "metadata": {
        "colab": {
          "base_uri": "https://localhost:8080/"
        },
        "id": "VSRF3DSCL_Rz",
        "outputId": "af76774d-3535-4c32-f56b-0f65f4b2c1a7"
      },
      "execution_count": null,
      "outputs": [
        {
          "output_type": "stream",
          "name": "stdout",
          "text": [
            "Best Parameters for Random Forest: {'bootstrap': True, 'max_depth': 20, 'min_samples_leaf': 4, 'min_samples_split': 2, 'n_estimators': 200}\n"
          ]
        }
      ]
    },
    {
      "cell_type": "code",
      "source": [
        "y_pred = grid_search_rf.predict(X_test)"
      ],
      "metadata": {
        "id": "D3L2I5CyUMke"
      },
      "execution_count": null,
      "outputs": []
    },
    {
      "cell_type": "code",
      "source": [
        "# R squared error\n",
        "error_score = metrics.r2_score(y_test, y_pred)\n",
        "print(\"R squared error : \", error_score)"
      ],
      "metadata": {
        "colab": {
          "base_uri": "https://localhost:8080/"
        },
        "id": "CGpsgOmiUhi5",
        "outputId": "896066bc-897c-4ff6-ffd0-c4cdd4d7817b"
      },
      "execution_count": null,
      "outputs": [
        {
          "output_type": "stream",
          "name": "stdout",
          "text": [
            "R squared error :  0.06419835200083801\n"
          ]
        }
      ]
    },
    {
      "cell_type": "markdown",
      "metadata": {
        "id": "DZBiNHcEZtdi"
      },
      "source": [
        "**Comparing the actual values VS the predicted values of the RF model**"
      ]
    },
    {
      "cell_type": "code",
      "execution_count": null,
      "metadata": {
        "id": "75-DI_5yY87M"
      },
      "outputs": [],
      "source": [
        "y_test_list = list(y_test)"
      ]
    },
    {
      "cell_type": "code",
      "execution_count": null,
      "metadata": {
        "colab": {
          "base_uri": "https://localhost:8080/",
          "height": 472
        },
        "id": "48w0eWk1ZcDE",
        "outputId": "8b2e6e18-de1c-4ae9-db31-847aa8a9e87c"
      },
      "outputs": [
        {
          "output_type": "display_data",
          "data": {
            "text/plain": [
              "<Figure size 640x480 with 1 Axes>"
            ],
            "image/png": "[encoded data removed]"
          },
          "metadata": {}
        }
      ],
      "source": [
        "plt.plot(y_test_list, color='red', label = 'Actual Value')\n",
        "plt.plot(y_pred, color='blue', label='Predicted Value')\n",
        "plt.title('Actual Price vs Predicted Price')\n",
        "plt.xlabel('Values Count')\n",
        "plt.ylabel('House Price')\n",
        "plt.legend()\n",
        "plt.show()"
      ]
    },
    {
      "cell_type": "markdown",
      "metadata": {
        "id": "ugh2kWI30O82"
      },
      "source": [
        "# **Decision Tree Regression**"
      ]
    },
    {
      "cell_type": "code",
      "execution_count": null,
      "metadata": {
        "colab": {
          "base_uri": "https://localhost:8080/",
          "height": 75
        },
        "id": "BhEGhEpxaoN3",
        "outputId": "9005ea4d-bfdc-4fd9-dfeb-bd8120e3cf90"
      },
      "outputs": [
        {
          "output_type": "execute_result",
          "data": {
            "text/plain": [
              "DecisionTreeRegressor(max_depth=3, random_state=42)"
            ],
            "text/html": [
              "<style>#sk-container-id-3 {color: black;}#sk-container-id-3 pre{padding: 0;}#sk-container-id-3 div.sk-toggleable {background-color: white;}#sk-container-id-3 label.sk-toggleable__label {cursor: pointer;display: block;width: 100%;margin-bottom: 0;padding: 0.3em;box-sizing: border-box;text-align: center;}#sk-container-id-3 label.sk-toggleable__label-arrow:before {content: \"▸\";float: left;margin-right: 0.25em;color: #696969;}#sk-container-id-3 label.sk-toggleable__label-arrow:hover:before {color: black;}#sk-container-id-3 div.sk-estimator:hover label.sk-toggleable__label-arrow:before {color: black;}#sk-container-id-3 div.sk-toggleable__content {max-height: 0;max-width: 0;overflow: hidden;text-align: left;background-color: #f0f8ff;}#sk-container-id-3 div.sk-toggleable__content pre {margin: 0.2em;color: black;border-radius: 0.25em;background-color: #f0f8ff;}#sk-container-id-3 input.sk-toggleable__control:checked~div.sk-toggleable__content {max-height: 200px;max-width: 100%;overflow: auto;}#sk-container-id-3 input.sk-toggleable__control:checked~label.sk-toggleable__label-arrow:before {content: \"▾\";}#sk-container-id-3 div.sk-estimator input.sk-toggleable__control:checked~label.sk-toggleable__label {background-color: #d4ebff;}#sk-container-id-3 div.sk-label input.sk-toggleable__control:checked~label.sk-toggleable__label {background-color: #d4ebff;}#sk-container-id-3 input.sk-hidden--visually {border: 0;clip: rect(1px 1px 1px 1px);clip: rect(1px, 1px, 1px, 1px);height: 1px;margin: -1px;overflow: hidden;padding: 0;position: absolute;width: 1px;}#sk-container-id-3 div.sk-estimator {font-family: monospace;background-color: #f0f8ff;border: 1px dotted black;border-radius: 0.25em;box-sizing: border-box;margin-bottom: 0.5em;}#sk-container-id-3 div.sk-estimator:hover {background-color: #d4ebff;}#sk-container-id-3 div.sk-parallel-item::after {content: \"\";width: 100%;border-bottom: 1px solid gray;flex-grow: 1;}#sk-container-id-3 div.sk-label:hover label.sk-toggleable__label {background-color: #d4ebff;}#sk-container-id-3 div.sk-serial::before {content: \"\";position: absolute;border-left: 1px solid gray;box-sizing: border-box;top: 0;bottom: 0;left: 50%;z-index: 0;}#sk-container-id-3 div.sk-serial {display: flex;flex-direction: column;align-items: center;background-color: white;padding-right: 0.2em;padding-left: 0.2em;position: relative;}#sk-container-id-3 div.sk-item {position: relative;z-index: 1;}#sk-container-id-3 div.sk-parallel {display: flex;align-items: stretch;justify-content: center;background-color: white;position: relative;}#sk-container-id-3 div.sk-item::before, #sk-container-id-3 div.sk-parallel-item::before {content: \"\";position: absolute;border-left: 1px solid gray;box-sizing: border-box;top: 0;bottom: 0;left: 50%;z-index: -1;}#sk-container-id-3 div.sk-parallel-item {display: flex;flex-direction: column;z-index: 1;position: relative;background-color: white;}#sk-container-id-3 div.sk-parallel-item:first-child::after {align-self: flex-end;width: 50%;}#sk-container-id-3 div.sk-parallel-item:last-child::after {align-self: flex-start;width: 50%;}#sk-container-id-3 div.sk-parallel-item:only-child::after {width: 0;}#sk-container-id-3 div.sk-dashed-wrapped {border: 1px dashed gray;margin: 0 0.4em 0.5em 0.4em;box-sizing: border-box;padding-bottom: 0.4em;background-color: white;}#sk-container-id-3 div.sk-label label {font-family: monospace;font-weight: bold;display: inline-block;line-height: 1.2em;}#sk-container-id-3 div.sk-label-container {text-align: center;}#sk-container-id-3 div.sk-container {/* jupyter's `normalize.less` sets `[hidden] { display: none; }` but bootstrap.min.css set `[hidden] { display: none !important; }` so we also need the `!important` here to be able to override the default hidden behavior on the sphinx rendered scikit-learn.org. See: https://github.com/scikit-learn/scikit-learn/issues/21755 */display: inline-block !important;position: relative;}#sk-container-id-3 div.sk-text-repr-fallback {display: none;}</style><div id=\"sk-container-id-3\" class=\"sk-top-container\"><div class=\"sk-text-repr-fallback\"><pre>DecisionTreeRegressor(max_depth=3, random_state=42)</pre><b>In a Jupyter environment, please rerun this cell to show the HTML representation or trust the notebook. <br />On GitHub, the HTML representation is unable to render, please try loading this page with nbviewer.org.</b></div><div class=\"sk-container\" hidden><div class=\"sk-item\"><div class=\"sk-estimator sk-toggleable\"><input class=\"sk-toggleable__control sk-hidden--visually\" id=\"sk-estimator-id-3\" type=\"checkbox\" checked><label for=\"sk-estimator-id-3\" class=\"sk-toggleable__label sk-toggleable__label-arrow\">DecisionTreeRegressor</label><div class=\"sk-toggleable__content\"><pre>DecisionTreeRegressor(max_depth=3, random_state=42)</pre></div></div></div></div></div>"
            ]
          },
          "metadata": {},
          "execution_count": 40
        }
      ],
      "source": [
        "from sklearn.tree import DecisionTreeRegressor,plot_tree\n",
        "dtr=DecisionTreeRegressor(max_depth=3, random_state=42)\n",
        "dtr.fit(X_train,y_train)"
      ]
    },
    {
      "cell_type": "code",
      "execution_count": null,
      "metadata": {
        "colab": {
          "base_uri": "https://localhost:8080/"
        },
        "id": "BsMWPtc4nslN",
        "outputId": "d0e7ce82-f6c0-4ebb-a948-82ae34c39e1e"
      },
      "outputs": [
        {
          "output_type": "execute_result",
          "data": {
            "text/plain": [
              "0.4079450344557428"
            ]
          },
          "metadata": {},
          "execution_count": 41
        }
      ],
      "source": [
        "# evaluate the model on training sample\n",
        "dtr.score(X_train,y_train)"
      ]
    },
    {
      "cell_type": "code",
      "execution_count": null,
      "metadata": {
        "colab": {
          "base_uri": "https://localhost:8080/"
        },
        "id": "H-SByIzrnykj",
        "outputId": "67764041-3c1e-4d7c-a51e-4d53ee35ca42"
      },
      "outputs": [
        {
          "output_type": "execute_result",
          "data": {
            "text/plain": [
              "{'fit_time': array([0.01558328, 0.00925016, 0.00899625, 0.00892067, 0.01008296]),\n",
              " 'score_time': array([0.00246859, 0.00232124, 0.00229335, 0.00271416, 0.00337625]),\n",
              " 'test_score': array([0.31143509, 0.23047347, 0.11197482, 0.48326587, 0.42428463])}"
            ]
          },
          "metadata": {},
          "execution_count": 42
        }
      ],
      "source": [
        "from sklearn.model_selection import cross_validate\n",
        "cross_validate(dtr, X_train, y_train, cv=5)"
      ]
    },
    {
      "cell_type": "markdown",
      "source": [
        "hyper-parameters tuning"
      ],
      "metadata": {
        "id": "Jn_HEM2cUtv1"
      }
    },
    {
      "cell_type": "code",
      "source": [
        "# Decision Tree Regressor\n",
        "dt = DecisionTreeRegressor()\n",
        "param_grid_dt = {\n",
        "    'max_depth': [None, 10, 20, 30],\n",
        "    'min_samples_split': [2, 5, 10],\n",
        "    'min_samples_leaf': [1, 2, 4]\n",
        "}\n",
        "\n",
        "grid_search_dt = GridSearchCV(estimator=dt, param_grid=param_grid_dt, cv=5, scoring='neg_mean_squared_error')\n",
        "grid_search_dt.fit(X_train, y_train)\n",
        "print(\"Best Parameters for Decision Tree:\", grid_search_dt.best_params_)\n"
      ],
      "metadata": {
        "colab": {
          "base_uri": "https://localhost:8080/"
        },
        "id": "7j2D4BGHMnF-",
        "outputId": "e3c7c8e7-5aa1-46de-80d7-4accff37cde4"
      },
      "execution_count": null,
      "outputs": [
        {
          "output_type": "stream",
          "name": "stdout",
          "text": [
            "Best Parameters for Decision Tree: {'max_depth': 10, 'min_samples_leaf': 4, 'min_samples_split': 10}\n"
          ]
        }
      ]
    },
    {
      "cell_type": "markdown",
      "metadata": {
        "id": "iFql4fia0XFD"
      },
      "source": [
        "# **gradient boosting regressor**"
      ]
    },
    {
      "cell_type": "code",
      "execution_count": null,
      "metadata": {
        "id": "GEUq9WsCoZgx"
      },
      "outputs": [],
      "source": [
        "from sklearn.ensemble import GradientBoostingRegressor\n",
        "from sklearn.metrics import r2_score"
      ]
    },
    {
      "cell_type": "code",
      "execution_count": null,
      "metadata": {
        "id": "NHJG0FNaod5f"
      },
      "outputs": [],
      "source": [
        "gbr = GradientBoostingRegressor(n_estimators=100, learning_rate=0.1, max_depth=3, random_state=42)\n",
        "gbr.fit(X_train, y_train)\n",
        "y_pred = gbr.predict(X_test)"
      ]
    },
    {
      "cell_type": "code",
      "execution_count": null,
      "metadata": {
        "id": "GN5GV9o0okJo",
        "colab": {
          "base_uri": "https://localhost:8080/"
        },
        "outputId": "1992625e-ddb1-4a7f-f26e-56b98be07485"
      },
      "outputs": [
        {
          "output_type": "stream",
          "name": "stdout",
          "text": [
            "Mean Squared Error (MSE): 577971205088.0321\n",
            "Mean Absolute Error (MAE): 214979.96675368608\n",
            "R² Score: 0.07743303023230108\n"
          ]
        }
      ],
      "source": [
        "mse = mean_squared_error(y_test, y_pred)\n",
        "mae = mean_absolute_error(y_test, y_pred)\n",
        "r2 = r2_score(y_test, y_pred)\n",
        "print(f\"Mean Squared Error (MSE): {mse}\")\n",
        "print(f\"Mean Absolute Error (MAE): {mae}\")\n",
        "print(f\"R² Score: {r2}\")"
      ]
    },
    {
      "cell_type": "markdown",
      "source": [
        "hyper-parameters tuning"
      ],
      "metadata": {
        "id": "KSwLWHxWZrlu"
      }
    },
    {
      "cell_type": "code",
      "source": [
        "# Gradient Boosting Regressor\n",
        "gbr = GradientBoostingRegressor()\n",
        "param_grid_gbr = {\n",
        "    'n_estimators': [100, 200],\n",
        "    'learning_rate': [0.01, 0.1, 0.05],\n",
        "    'max_depth': [3, 5, 7],\n",
        "    'min_samples_split': [2, 5, 10],\n",
        "    'min_samples_leaf': [1, 2, 4]\n",
        "}\n",
        "\n",
        "grid_search_gbr = GridSearchCV(estimator=gbr, param_grid=param_grid_gbr, cv=5, scoring='neg_mean_squared_error', n_jobs=-1)\n",
        "grid_search_gbr.fit(X_train, y_train)\n",
        "print(\"Best Parameters for Gradient Boosting:\", grid_search_gbr.best_params_)\n"
      ],
      "metadata": {
        "colab": {
          "base_uri": "https://localhost:8080/"
        },
        "id": "em_BE9CaMrvL",
        "outputId": "b171ebcd-efbc-4948-9f91-71bdb4b4133d"
      },
      "execution_count": null,
      "outputs": [
        {
          "output_type": "stream",
          "name": "stdout",
          "text": [
            "Best Parameters for Gradient Boosting: {'learning_rate': 0.05, 'max_depth': 3, 'min_samples_leaf': 2, 'min_samples_split': 5, 'n_estimators': 200}\n"
          ]
        }
      ]
    },
    {
      "cell_type": "markdown",
      "metadata": {
        "id": "UveyYCIdV5DD"
      },
      "source": [
        "While we made efforts to improve the data quality through preprocessing, some limitations (unexpected formats, not well-structured) in the original dataset may have impacted the models' performance. Future work could focus on acquiring higher-quality data or further refining the data preprocessing steps to enhance results."
      ]
    }
  ],
  "metadata": {
    "colab": {
      "provenance": [],
      "authorship_tag": "ABX9TyPC8Ix9iStC6k4h0kY1eGWi",
      "include_colab_link": true
    },
    "kernelspec": {
      "display_name": "Python 3",
      "name": "python3"
    },
    "language_info": {
      "name": "python"
    }
  },
  "nbformat": 4,
  "nbformat_minor": 0
}